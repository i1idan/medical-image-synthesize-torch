{
  "cells": [
    {
      "cell_type": "markdown",
      "source": [
        "# **Download Dataset**"
      ],
      "metadata": {
        "id": "SQw9XGnFdiJ_"
      }
    },
    {
      "cell_type": "code",
      "source": [
        "! gdown --id 1wBaZeI95C3-3rr0qaUvWZdooUKi28VFe\n",
        "! unzip -q /content/Xray_dataset.zip"
      ],
      "metadata": {
        "id": "c2IC0x3qGxqp",
        "colab": {
          "base_uri": "https://localhost:8080/"
        },
        "outputId": "a0058f84-425a-4d94-8981-fa45e7fb5812"
      },
      "execution_count": 1,
      "outputs": [
        {
          "output_type": "stream",
          "name": "stdout",
          "text": [
            "/usr/local/lib/python3.10/dist-packages/gdown/cli.py:121: FutureWarning: Option `--id` was deprecated in version 4.3.1 and will be removed in 5.0. You don't need to pass it anymore to use a file ID.\n",
            "  warnings.warn(\n",
            "Downloading...\n",
            "From: https://drive.google.com/uc?id=1wBaZeI95C3-3rr0qaUvWZdooUKi28VFe\n",
            "To: /content/Xray_dataset.zip\n",
            "100% 59.8M/59.8M [00:02<00:00, 21.4MB/s]\n"
          ]
        }
      ]
    },
    {
      "cell_type": "markdown",
      "source": [
        "# **Install Requirements**"
      ],
      "metadata": {
        "id": "F4ms5HMldof-"
      }
    },
    {
      "cell_type": "code",
      "source": [
        "! pip install torchmetrics\n",
        "! pip install torch-fidelity\n",
        "! pip install torchmetrics[image]"
      ],
      "metadata": {
        "id": "yqMEji1v46De"
      },
      "execution_count": null,
      "outputs": []
    },
    {
      "cell_type": "markdown",
      "source": [
        "# **Define Generative Model**"
      ],
      "metadata": {
        "id": "nR7A0u7kdx0-"
      }
    },
    {
      "cell_type": "code",
      "execution_count": 3,
      "metadata": {
        "id": "gLM6o1DSjcXJ"
      },
      "outputs": [],
      "source": [
        "from __future__ import print_function\n",
        "#%matplotlib inline\n",
        "import argparse\n",
        "import datetime\n",
        "import os\n",
        "import os.path\n",
        "import random\n",
        "import torch\n",
        "import torch.nn as nn\n",
        "import torch.nn.parallel\n",
        "import torch.backends.cudnn as cudnn\n",
        "import torch.optim as optim\n",
        "import torch.utils.data\n",
        "import torchvision.datasets as datasets\n",
        "import torchvision.transforms as transforms\n",
        "import torchvision.utils as vutils\n",
        "from torchvision.utils import save_image\n",
        "from torch.utils.data import SubsetRandomSampler\n",
        "import numpy as np\n",
        "import matplotlib.pyplot as plt\n",
        "import matplotlib.animation as animation\n",
        "from IPython.display import HTML\n",
        "from IPython.display import clear_output\n",
        "from tqdm import tqdm"
      ]
    },
    {
      "cell_type": "code",
      "execution_count": 6,
      "metadata": {
        "id": "5MdEuFt0nkmc"
      },
      "outputs": [],
      "source": [
        "device = torch.device('cuda' if torch.cuda.is_available() else 'cpu')\n",
        "batch_size = 32\n",
        "# Number of training epochs\n",
        "num_epochs = 200\n",
        "LOAD_MODEL = False\n",
        "\n",
        "\n",
        "TRAIN_ALL = False\n",
        "#All images will be resized to this size using a transformer.\n",
        "image_size = 64\n",
        "\n",
        "# Number of channels in the training images. For color images this is 3\n",
        "nc = 1\n",
        "\n",
        "# Size of z latent vector (i.e. size of generator input)\n",
        "nz = 100\n",
        "\n",
        "# Size of feature maps in generator\n",
        "ngf = 64\n",
        "\n",
        "# Size of feature maps in discriminator\n",
        "ndf = 64\n",
        "\n",
        "# Learning rate for optimizers\n",
        "lr = 0.002\n",
        "lr_d = 0.0002\n",
        "# Beta1 hyperparam for Adam optimizers\n",
        "beta1 = 0.5\n",
        "# Beta2 hyperparam for Adam optimizers\n",
        "beta2 = 0.999\n",
        "\n",
        "real_label = 1.\n",
        "fake_label = 0.\n",
        "# Input to generator\n",
        "fixed_noise = torch.randn(64, nz, 1, 1, device=device) #batch of 64\n",
        "# Define Loss function\n",
        "criterion = nn.BCELoss()"
      ]
    },
    {
      "cell_type": "code",
      "execution_count": 7,
      "metadata": {
        "id": "HHXGFAtBHH4R"
      },
      "outputs": [],
      "source": [
        "def weights_init(m):\n",
        "    classname = m.__class__.__name__\n",
        "    if classname.find('Conv') != -1:\n",
        "        nn.init.normal_(m.weight.data, 0.0, 0.02)\n",
        "    elif classname.find('BatchNorm') != -1:\n",
        "        nn.init.normal_(m.weight.data, 1.0, 0.02)\n",
        "        nn.init.constant_(m.bias.data, 0)"
      ]
    },
    {
      "cell_type": "code",
      "execution_count": 8,
      "metadata": {
        "id": "F4uvXCj5zzNa"
      },
      "outputs": [],
      "source": [
        "\n",
        "class Generator(nn.Module):\n",
        "    def __init__(self):\n",
        "        super(Generator, self).__init__()\n",
        "        self.main = nn.Sequential(\n",
        "            # input is Z, going into a convolution\n",
        "            nn.ConvTranspose2d( nz, ngf * 8, 4, 1, 0, bias=False),\n",
        "            nn.BatchNorm2d(ngf * 8),\n",
        "            nn.ReLU(True),\n",
        "            # state size. (ngf*8) x 4 x 4\n",
        "            nn.ConvTranspose2d(ngf * 8, ngf * 4, 4, 2, 1, bias=False),\n",
        "            nn.BatchNorm2d(ngf * 4),\n",
        "            nn.ReLU(True),\n",
        "            # state size. (ngf*4) x 8 x 8\n",
        "            nn.ConvTranspose2d( ngf * 4, ngf * 2, 4, 2, 1, bias=False),\n",
        "            nn.BatchNorm2d(ngf * 2),\n",
        "            nn.ReLU(True),\n",
        "            # state size. (ngf*2) x 16 x 16\n",
        "            nn.ConvTranspose2d( ngf * 2, ngf, 4, 2, 1, bias=False),\n",
        "            nn.BatchNorm2d(ngf),\n",
        "            nn.ReLU(True),\n",
        "            # state size. (ngf) x 32 x 32\n",
        "            nn.ConvTranspose2d( ngf, nc, 4, 2, 1, bias=False),\n",
        "            nn.Tanh()\n",
        "            # state size. (nc) x 64 x 64\n",
        "        )\n",
        "\n",
        "    def forward(self, input):\n",
        "        return self.main(input)"
      ]
    },
    {
      "cell_type": "code",
      "execution_count": 9,
      "metadata": {
        "id": "CEb5BlY5GO4_"
      },
      "outputs": [],
      "source": [
        "\n",
        "class Discriminator(nn.Module):\n",
        "    def __init__(self):\n",
        "        super(Discriminator, self).__init__()\n",
        "        self.main = nn.Sequential(\n",
        "            # input is (nc) x 64 x 64\n",
        "            nn.Conv2d(nc, ndf, 4, 2, 1, bias=False),\n",
        "            nn.LeakyReLU(0.2, inplace=True),\n",
        "            nn.Dropout(p=0.5),\n",
        "            # state size. (ndf) x 32 x 32\n",
        "            nn.Conv2d(ndf, ndf * 2, 4, 2, 1, bias=False),\n",
        "            nn.BatchNorm2d(ndf * 2),\n",
        "            nn.LeakyReLU(0.2, inplace=True),\n",
        "            # state size. (ndf*2) x 16 x 16\n",
        "            nn.Conv2d(ndf * 2, ndf * 4, 4, 2, 1, bias=False),\n",
        "            nn.BatchNorm2d(ndf * 4),\n",
        "            nn.LeakyReLU(0.2, inplace=True),\n",
        "            nn.Dropout(p=0.5),\n",
        "            # state size. (ndf*4) x 8 x 8\n",
        "            nn.Conv2d(ndf * 4, ndf * 8, 4, 2, 1, bias=False),\n",
        "            nn.BatchNorm2d(ndf * 8),\n",
        "            nn.Dropout(p=0.25),\n",
        "            nn.LeakyReLU(0.2, inplace=True),\n",
        "            # state size. (ndf*8) x 4 x 4\n",
        "            nn.Conv2d(ndf * 8, 1, 4, 1, 0, bias=False),\n",
        "            nn.Sigmoid()\n",
        "        )\n",
        "\n",
        "    def forward(self, input):\n",
        "        return self.main(input)"
      ]
    },
    {
      "cell_type": "code",
      "execution_count": 10,
      "metadata": {
        "id": "YVLWLMetCrGe"
      },
      "outputs": [],
      "source": [
        "def plot(name, train_epoch, values, path, save):\n",
        "    clear_output(wait=True)\n",
        "    plt.close('all')\n",
        "    fig = plt.figure()\n",
        "    fig = plt.ion()\n",
        "    fig = plt.subplot(1, 1, 1)\n",
        "    fig = plt.title('epoch: %s -> %s: %s' % (train_epoch, name, values[-1]))\n",
        "    fig = plt.ylabel(name)\n",
        "    fig = plt.xlabel('train_set')\n",
        "    fig = plt.plot(values)\n",
        "    fig = plt.grid()\n",
        "    get_fig = plt.gcf()\n",
        "    fig = plt.draw()  # draw the plot\n",
        "    fig = plt.pause(1)  # show it for 1 second\n",
        "    if save:\n",
        "        now = datetime.datetime.now()\n",
        "        get_fig.savefig('%s/%s_%.3f_%d_%s.png' %\n",
        "                        (path, name, train_epoch, values[-1], now.strftime(\"%Y-%m-%d_%H:%M:%S\")))"
      ]
    },
    {
      "cell_type": "code",
      "execution_count": 11,
      "metadata": {
        "id": "zHGbk-t3imrL"
      },
      "outputs": [],
      "source": [
        "def save_model(generator, discriminator, gen_optimizer, dis_optimizer, metrics, num_epochs):\n",
        "    now = datetime.datetime.now()\n",
        "    g_losses = metrics['train.G_losses'][-1]\n",
        "    d_losses = metrics['train.D_losses'][-1]\n",
        "    name = \"%+.3f_%+.3f_%d_%s.dat\" % (g_losses, d_losses, num_epochs, now.strftime(\"%Y-%m-%d_%H:%M:%S\"))\n",
        "    fname = os.path.join('.', 'augGAN/model', name)\n",
        "    states = {\n",
        "            'state_dict_generator': generator.state_dict(),\n",
        "            'state_dict_discriminator': discriminator.state_dict(),\n",
        "            'gen_optimizer': gen_optimizer.state_dict(),\n",
        "            'dis_optimizer': dis_optimizer.state_dict(),\n",
        "            'metrics': metrics,\n",
        "            'train_epoch': num_epochs,\n",
        "            'date': now.strftime(\"%Y-%m-%d_%H:%M:%S\"),\n",
        "    }\n",
        "    torch.save(states, fname)\n",
        "    path='augGAN/plots/train_%+.3f_%+.3f_%s'% (g_losses, d_losses, now.strftime(\"%Y-%m-%d_%H:%M:%S\"))\n",
        "    try:\n",
        "      os.mkdir(os.path.join('.', path))\n",
        "    except Exception as error:\n",
        "      print(error)\n",
        "\n"
      ]
    },
    {
      "cell_type": "code",
      "execution_count": 13,
      "metadata": {
        "id": "xn5d4tccMIyL"
      },
      "outputs": [],
      "source": [
        "from torchmetrics.image.inception import InceptionScore\n",
        "from torchmetrics.image.fid import FrechetInceptionDistance\n",
        "\n",
        "\n",
        "img_list = []\n",
        "G_losses = []\n",
        "D_losses = []\n",
        "fid = FrechetInceptionDistance(feature=64, normalize=True).cuda()\n",
        "inception = InceptionScore(normalize=True).cuda()\n",
        "\n",
        "\n",
        "def train_gan(generator, discriminator, gen_optimizer, dis_optimizer, train_loader, num_epochs, metrics):\n",
        "        iters = 0\n",
        "        print(\"GAN training started :D...\")\n",
        "\n",
        "        for epoch in range(num_epochs):\n",
        "            print(\"Epoch %d\" %(epoch+1))\n",
        "            # For each batch in the dataloader\n",
        "            for i, data in enumerate(tqdm(train_loader, 0)):\n",
        "                # (1) Update D network: maximize log(D(x)) + log(1 - D(G(z)))\n",
        "                ## Train with all-real batch\n",
        "                discriminator.zero_grad()\n",
        "                # Format batch\n",
        "                b_real = data[0].to(device)\n",
        "                b_size = b_real.size(0)\n",
        "                label = torch.full((b_size,), real_label, device=device)\n",
        "                # Forward pass real batch through D\n",
        "                output = discriminator(b_real).view(-1)\n",
        "                # Calculate loss on all-real batch\n",
        "                errD_real = criterion(output, label)\n",
        "                # Calculate gradients for D in backward pass\n",
        "                errD_real.backward()\n",
        "                D_x = output.mean().item()\n",
        "                metrics['train.D_x'].append(D_x)\n",
        "\n",
        "                ## Train with all-fake batch\n",
        "                # Generate batch of latent vectors\n",
        "                noise = torch.randn(b_size, nz, 1, 1, device=device)\n",
        "                # Generate fake image batch with G\n",
        "                fake = generator(noise)\n",
        "\n",
        "                # InceptionScore\n",
        "                fid.update(torch.tensor(b_real, dtype=torch.float32).repeat(1, 3, 1, 1), real=True)\n",
        "                fid.update(torch.tensor(fake, dtype=torch.float32).repeat(1, 3, 1, 1), real=False)\n",
        "                metrics['fid'].append(fid.compute())\n",
        "\n",
        "                # FrechetInceptionDistance\n",
        "                inception.update(torch.tensor(fake, dtype=torch.float32).repeat(1, 3, 1, 1))\n",
        "                mean_is, std_is = inception.compute()\n",
        "                metrics['is'].append(mean_is)\n",
        "\n",
        "                label.fill_(fake_label)\n",
        "                # Classify all fake batch with D\n",
        "                output = discriminator(fake.detach()).view(-1)\n",
        "                # Calculate D's loss on the all-fake batch\n",
        "                errD_fake = criterion(output, label)\n",
        "                # Calculate the gradients for this batch\n",
        "                errD_fake.backward()\n",
        "                D_G_z1 = output.mean().item()\n",
        "                metrics['train.D_G_z1'].append(D_G_z1)\n",
        "                # Add the gradients from the all-real and all-fake batches\n",
        "                errD = errD_real + errD_fake\n",
        "                # Update D\n",
        "                dis_optimizer.step()\n",
        "\n",
        "                generator.zero_grad()\n",
        "                label.fill_(real_label)  # fake labels are real for generator cost\n",
        "                # Since we just updated D, perform another forward pass of all-fake batch through D\n",
        "                output = discriminator(fake).view(-1)\n",
        "                # Calculate G's loss based on this output\n",
        "                errG = criterion(output, label)\n",
        "                # Calculate gradients for G\n",
        "                errG.backward()\n",
        "                D_G_z2 = output.mean().item()\n",
        "                metrics['train.D_G_z2'].append(D_G_z2)\n",
        "                # Update G\n",
        "                gen_optimizer.step()\n",
        "\n",
        "                # Save Losses for plotting later\n",
        "                G_losses.append(errG.item())\n",
        "                D_losses.append(errD.item())\n",
        "                metrics['train.G_losses'].append(errG.item())\n",
        "                metrics['train.D_losses'].append(errD.item())\n",
        "\n",
        "                # Check how the generator is doing by saving G's output on fixed_noise\n",
        "                if (iters % 500 == 0) or ((epoch == num_epochs-1) and (i == len(train_loader)-1)):\n",
        "                    with torch.no_grad():\n",
        "                        fake = generator(fixed_noise).detach().cpu()\n",
        "                    img_list.append(vutils.make_grid(fake, padding=2, normalize=True))\n",
        "\n",
        "                iters += 1\n",
        "            print('[%d/%d][%d/%d]\\tLoss_D: %.4f\\tLoss_G: %.4f\\tD(x): %.4f\\tD(G(z)): %.4f / %.4f'\n",
        "                  % (epoch+1, num_epochs, i, len(train_loader),\n",
        "                    errD.item(), errG.item(), D_x, D_G_z1, D_G_z2), \"FID:\", fid.compute().item(), \"InceptionScore:\",mean_is.item())\n",
        "        save_model(generator, discriminator, gen_optimizer, dis_optimizer, metrics, num_epochs)"
      ]
    },
    {
      "cell_type": "code",
      "execution_count": 14,
      "metadata": {
        "id": "gPHMkQQKJItb"
      },
      "outputs": [],
      "source": [
        "def get_indices(dataset, class_name, indices):\n",
        "    j = 0\n",
        "    for i in range(len(dataset.targets)):\n",
        "        if dataset.targets[i] == class_name:\n",
        "            indices.append(i)\n",
        "            j += 1\n",
        "    print(\"Total Samples of class\", class_name,\"found are\",j)\n",
        "    return indices"
      ]
    },
    {
      "cell_type": "code",
      "execution_count": 18,
      "metadata": {
        "id": "sjQZEYmqSRyn"
      },
      "outputs": [],
      "source": [
        "def visualize_generated_imgs(generator, discriminator, num_epochs, metrics, loader):\n",
        "    print('Testing Block.........')\n",
        "    now = datetime.datetime.now()\n",
        "    g_losses = metrics['train.G_losses'][-1]\n",
        "    d_losses = metrics['train.D_losses'][-1]\n",
        "    path='augGAN/output_images'\n",
        "    try:\n",
        "      os.makedirs(os.path.join('.', path), exist_ok=True)\n",
        "    except Exception as error:\n",
        "      print(error)\n",
        "\n",
        "    real_batch = next(iter(loader))\n",
        "    \n",
        "    test_img_list = []\n",
        "    test_noise = torch.randn(batch_size, nz, 1, 1, device=device)\n",
        "    test_fake = generator(test_noise).detach().cpu()\n",
        "    test_img_list.append(vutils.make_grid(test_fake, padding=2, normalize=True))\n",
        "\n",
        "    fig = plt.figure(figsize=(15,15))\n",
        "    ax1 = plt.subplot(1,2,1)\n",
        "    ax1 = plt.axis(\"off\")\n",
        "    ax1 = plt.title(\"Real Images\")\n",
        "    ax1 = plt.imshow(np.transpose(vutils.make_grid(real_batch[0].to(device)[:64], padding=5, normalize=True).cpu(),(1,2,0)))\n",
        "\n",
        "    ax2 = plt.subplot(1,2,2)\n",
        "    ax2 = plt.axis(\"off\")\n",
        "    ax2 = plt.title(\"Fake Images\")\n",
        "    ax2 = plt.imshow(np.transpose(test_img_list[-1],(1,2,0)))\n",
        "    #ax2 = plt.show()\n",
        "    fig.savefig('%s/image_%.3f_%.3f_%d_%s.png' %\n",
        "                    (path, g_losses, d_losses, num_epochs, now.strftime(\"%Y-%m-%d_%H:%M:%S\")))"
      ]
    },
    {
      "cell_type": "code",
      "execution_count": 19,
      "metadata": {
        "id": "ncRL2jjtN-Ns"
      },
      "outputs": [],
      "source": [
        "def synthesize_imgs(generator, discriminator, metrics, n_images, folname):\n",
        "    now = datetime.datetime.now()\n",
        "    g_losses = metrics['train.G_losses'][-1]\n",
        "    d_losses = metrics['train.D_losses'][-1]\n",
        "    pathc=f'augGAN/output_images/{n_images}/'\n",
        "    pathn=f'{folname}'\n",
        "\n",
        "    try:\n",
        "      os.makedirs(os.path.join('.', pathc),exist_ok=True)\n",
        "      os.makedirs(os.path.join(pathc, pathn), exist_ok=True)\n",
        "    except Exception as error:\n",
        "      print(error)\n",
        "\n",
        "    im_batch_size = 50\n",
        "    #n_images=100\n",
        "    for i_batch in range(0, n_images, im_batch_size):\n",
        "        gen_z = torch.randn(im_batch_size, 100, 1, 1, device=device)\n",
        "        gen_images = generator(gen_z)\n",
        "        dis_result = discriminator(gen_images).view(-1)\n",
        "        images = gen_images.to(\"cpu\").clone().detach()\n",
        "        images = images.numpy().transpose(0, 2, 3, 1)\n",
        "        for i_image in range(gen_images.size(0)):\n",
        "            save_image(gen_images[i_image, :, :, :], os.path.join(pathc  + pathn, \n",
        "                        f'image_{i_batch+i_image:04d}.png'), normalize= True)\n",
        "\n",
        "    print('Testing Block.........')\n",
        "    print('Discriminator_mean: ', dis_result.mean().item())\n"
      ]
    },
    {
      "cell_type": "markdown",
      "source": [
        "# **Train The Model**"
      ],
      "metadata": {
        "id": "MZPx-aA-d7ps"
      }
    },
    {
      "cell_type": "code",
      "execution_count": 20,
      "metadata": {
        "colab": {
          "base_uri": "https://localhost:8080/"
        },
        "id": "LWeXmdInu38z",
        "outputId": "b61f9e18-f1d1-4b11-f141-ac8d86b371eb"
      },
      "outputs": [
        {
          "metadata": {
            "tags": null
          },
          "name": "stdout",
          "output_type": "stream",
          "text": [
            "Total samples now are  1060\n",
            "GAN training started :D...\n",
            "Epoch 1\n"
          ]
        },
        {
          "metadata": {
            "tags": null
          },
          "name": "stderr",
          "output_type": "stream",
          "text": [
            "  0%|          | 0/34 [00:00<?, ?it/s]<ipython-input-13-1ebd68649289>:43: UserWarning: To copy construct from a tensor, it is recommended to use sourceTensor.clone().detach() or sourceTensor.clone().detach().requires_grad_(True), rather than torch.tensor(sourceTensor).\n",
            "  fid.update(torch.tensor(b_real, dtype=torch.float32).repeat(1, 3, 1, 1), real=True)\n",
            "<ipython-input-13-1ebd68649289>:44: UserWarning: To copy construct from a tensor, it is recommended to use sourceTensor.clone().detach() or sourceTensor.clone().detach().requires_grad_(True), rather than torch.tensor(sourceTensor).\n",
            "  fid.update(torch.tensor(fake, dtype=torch.float32).repeat(1, 3, 1, 1), real=False)\n",
            "<ipython-input-13-1ebd68649289>:48: UserWarning: To copy construct from a tensor, it is recommended to use sourceTensor.clone().detach() or sourceTensor.clone().detach().requires_grad_(True), rather than torch.tensor(sourceTensor).\n",
            "  inception.update(torch.tensor(fake, dtype=torch.float32).repeat(1, 3, 1, 1))\n",
            "100%|██████████| 34/34 [00:15<00:00,  2.25it/s]\n"
          ]
        },
        {
          "metadata": {
            "tags": null
          },
          "name": "stdout",
          "output_type": "stream",
          "text": [
            "[1/200][33/34]\tLoss_D: 4.8565\tLoss_G: 2.0584\tD(x): 0.1921\tD(G(z)): 0.7486 / 0.1499 FID: 38.516700744628906 InceptionScore: 1.9731520414352417\n",
            "Epoch 2\n"
          ]
        },
        {
          "metadata": {
            "tags": null
          },
          "name": "stderr",
          "output_type": "stream",
          "text": [
            "100%|██████████| 34/34 [00:07<00:00,  4.28it/s]\n"
          ]
        },
        {
          "metadata": {
            "tags": null
          },
          "name": "stdout",
          "output_type": "stream",
          "text": [
            "[2/200][33/34]\tLoss_D: 2.3246\tLoss_G: 1.3825\tD(x): 0.4129\tD(G(z)): 0.5741 / 0.3728 FID: 34.699947357177734 InceptionScore: 2.118464231491089\n",
            "Epoch 3\n"
          ]
        },
        {
          "metadata": {
            "tags": null
          },
          "name": "stderr",
          "output_type": "stream",
          "text": [
            "100%|██████████| 34/34 [00:07<00:00,  4.28it/s]\n"
          ]
        },
        {
          "metadata": {
            "tags": null
          },
          "name": "stdout",
          "output_type": "stream",
          "text": [
            "[3/200][33/34]\tLoss_D: 2.5154\tLoss_G: 0.7185\tD(x): 0.1877\tD(G(z)): 0.4307 / 0.5714 FID: 31.295034408569336 InceptionScore: 2.243130683898926\n",
            "Epoch 4\n"
          ]
        },
        {
          "metadata": {
            "tags": null
          },
          "name": "stderr",
          "output_type": "stream",
          "text": [
            "100%|██████████| 34/34 [00:08<00:00,  4.25it/s]\n"
          ]
        },
        {
          "metadata": {
            "tags": null
          },
          "name": "stdout",
          "output_type": "stream",
          "text": [
            "[4/200][33/34]\tLoss_D: 1.9953\tLoss_G: 1.9292\tD(x): 0.4331\tD(G(z)): 0.4246 / 0.1698 FID: 29.286792755126953 InceptionScore: 2.29431414604187\n",
            "Epoch 5\n"
          ]
        },
        {
          "metadata": {
            "tags": null
          },
          "name": "stderr",
          "output_type": "stream",
          "text": [
            "100%|██████████| 34/34 [00:08<00:00,  4.18it/s]\n"
          ]
        },
        {
          "metadata": {
            "tags": null
          },
          "name": "stdout",
          "output_type": "stream",
          "text": [
            "[5/200][33/34]\tLoss_D: 2.6836\tLoss_G: 3.1840\tD(x): 0.3583\tD(G(z)): 0.5868 / 0.0937 FID: 27.59095573425293 InceptionScore: 2.345503568649292\n",
            "Epoch 6\n"
          ]
        },
        {
          "metadata": {
            "tags": null
          },
          "name": "stderr",
          "output_type": "stream",
          "text": [
            "100%|██████████| 34/34 [00:08<00:00,  4.19it/s]\n"
          ]
        },
        {
          "metadata": {
            "tags": null
          },
          "name": "stdout",
          "output_type": "stream",
          "text": [
            "[6/200][33/34]\tLoss_D: 2.2210\tLoss_G: 0.9370\tD(x): 0.3235\tD(G(z)): 0.5069 / 0.4348 FID: 26.57406997680664 InceptionScore: 2.356907606124878\n",
            "Epoch 7\n"
          ]
        },
        {
          "metadata": {
            "tags": null
          },
          "name": "stderr",
          "output_type": "stream",
          "text": [
            "100%|██████████| 34/34 [00:08<00:00,  4.18it/s]\n"
          ]
        },
        {
          "metadata": {
            "tags": null
          },
          "name": "stdout",
          "output_type": "stream",
          "text": [
            "[7/200][33/34]\tLoss_D: 2.4067\tLoss_G: 0.8796\tD(x): 0.2979\tD(G(z)): 0.5487 / 0.4197 FID: 24.881912231445312 InceptionScore: 2.407799482345581\n",
            "Epoch 8\n"
          ]
        },
        {
          "metadata": {
            "tags": null
          },
          "name": "stderr",
          "output_type": "stream",
          "text": [
            "100%|██████████| 34/34 [00:08<00:00,  4.09it/s]\n"
          ]
        },
        {
          "metadata": {
            "tags": null
          },
          "name": "stdout",
          "output_type": "stream",
          "text": [
            "[8/200][33/34]\tLoss_D: 1.3092\tLoss_G: 1.4477\tD(x): 0.5633\tD(G(z)): 0.3879 / 0.2500 FID: 22.53005027770996 InceptionScore: 2.4818947315216064\n",
            "Epoch 9\n"
          ]
        },
        {
          "metadata": {
            "tags": null
          },
          "name": "stderr",
          "output_type": "stream",
          "text": [
            "100%|██████████| 34/34 [00:08<00:00,  4.21it/s]\n"
          ]
        },
        {
          "metadata": {
            "tags": null
          },
          "name": "stdout",
          "output_type": "stream",
          "text": [
            "[9/200][33/34]\tLoss_D: 2.2552\tLoss_G: 1.7326\tD(x): 0.3930\tD(G(z)): 0.6166 / 0.2512 FID: 20.680898666381836 InceptionScore: 2.5054562091827393\n",
            "Epoch 10\n"
          ]
        },
        {
          "metadata": {
            "tags": null
          },
          "name": "stderr",
          "output_type": "stream",
          "text": [
            "100%|██████████| 34/34 [00:08<00:00,  4.17it/s]\n"
          ]
        },
        {
          "metadata": {
            "tags": null
          },
          "name": "stdout",
          "output_type": "stream",
          "text": [
            "[10/200][33/34]\tLoss_D: 1.4803\tLoss_G: 1.0206\tD(x): 0.4462\tD(G(z)): 0.3999 / 0.3986 FID: 19.17447280883789 InceptionScore: 2.5303587913513184\n",
            "Epoch 11\n"
          ]
        },
        {
          "metadata": {
            "tags": null
          },
          "name": "stderr",
          "output_type": "stream",
          "text": [
            "100%|██████████| 34/34 [00:08<00:00,  4.16it/s]\n"
          ]
        },
        {
          "metadata": {
            "tags": null
          },
          "name": "stdout",
          "output_type": "stream",
          "text": [
            "[11/200][33/34]\tLoss_D: 1.6925\tLoss_G: 1.8764\tD(x): 0.7158\tD(G(z)): 0.5473 / 0.1965 FID: 18.329254150390625 InceptionScore: 2.556556463241577\n",
            "Epoch 12\n"
          ]
        },
        {
          "metadata": {
            "tags": null
          },
          "name": "stderr",
          "output_type": "stream",
          "text": [
            "100%|██████████| 34/34 [00:08<00:00,  4.21it/s]\n"
          ]
        },
        {
          "metadata": {
            "tags": null
          },
          "name": "stdout",
          "output_type": "stream",
          "text": [
            "[12/200][33/34]\tLoss_D: 1.4633\tLoss_G: 2.0414\tD(x): 0.6624\tD(G(z)): 0.4984 / 0.1889 FID: 17.13291358947754 InceptionScore: 2.5783514976501465\n",
            "Epoch 13\n"
          ]
        },
        {
          "metadata": {
            "tags": null
          },
          "name": "stderr",
          "output_type": "stream",
          "text": [
            "100%|██████████| 34/34 [00:08<00:00,  4.15it/s]\n"
          ]
        },
        {
          "metadata": {
            "tags": null
          },
          "name": "stdout",
          "output_type": "stream",
          "text": [
            "[13/200][33/34]\tLoss_D: 2.1605\tLoss_G: 2.6218\tD(x): 0.4034\tD(G(z)): 0.5015 / 0.1289 FID: 16.1593074798584 InceptionScore: 2.581939220428467\n",
            "Epoch 14\n"
          ]
        },
        {
          "metadata": {
            "tags": null
          },
          "name": "stderr",
          "output_type": "stream",
          "text": [
            "100%|██████████| 34/34 [00:08<00:00,  4.13it/s]\n"
          ]
        },
        {
          "metadata": {
            "tags": null
          },
          "name": "stdout",
          "output_type": "stream",
          "text": [
            "[14/200][33/34]\tLoss_D: 2.2831\tLoss_G: 2.2641\tD(x): 0.2479\tD(G(z)): 0.5266 / 0.1820 FID: 15.553269386291504 InceptionScore: 2.5663037300109863\n",
            "Epoch 15\n"
          ]
        },
        {
          "metadata": {
            "tags": null
          },
          "name": "stderr",
          "output_type": "stream",
          "text": [
            "100%|██████████| 34/34 [00:08<00:00,  4.17it/s]\n"
          ]
        },
        {
          "metadata": {
            "tags": null
          },
          "name": "stdout",
          "output_type": "stream",
          "text": [
            "[15/200][33/34]\tLoss_D: 0.3438\tLoss_G: 2.8676\tD(x): 0.8355\tD(G(z)): 0.1455 / 0.0664 FID: 14.889078140258789 InceptionScore: 2.5649330615997314\n",
            "Epoch 16\n"
          ]
        },
        {
          "metadata": {
            "tags": null
          },
          "name": "stderr",
          "output_type": "stream",
          "text": [
            "100%|██████████| 34/34 [00:08<00:00,  4.12it/s]\n"
          ]
        },
        {
          "metadata": {
            "tags": null
          },
          "name": "stdout",
          "output_type": "stream",
          "text": [
            "[16/200][33/34]\tLoss_D: 1.0758\tLoss_G: 0.9699\tD(x): 0.5511\tD(G(z)): 0.1818 / 0.3939 FID: 14.333338737487793 InceptionScore: 2.559980869293213\n",
            "Epoch 17\n"
          ]
        },
        {
          "metadata": {
            "tags": null
          },
          "name": "stderr",
          "output_type": "stream",
          "text": [
            "100%|██████████| 34/34 [00:08<00:00,  4.12it/s]\n"
          ]
        },
        {
          "metadata": {
            "tags": null
          },
          "name": "stdout",
          "output_type": "stream",
          "text": [
            "[17/200][33/34]\tLoss_D: 1.6545\tLoss_G: 1.9948\tD(x): 0.5010\tD(G(z)): 0.4657 / 0.1666 FID: 13.68356990814209 InceptionScore: 2.55896258354187\n",
            "Epoch 18\n"
          ]
        },
        {
          "metadata": {
            "tags": null
          },
          "name": "stderr",
          "output_type": "stream",
          "text": [
            "100%|██████████| 34/34 [00:08<00:00,  4.18it/s]\n"
          ]
        },
        {
          "metadata": {
            "tags": null
          },
          "name": "stdout",
          "output_type": "stream",
          "text": [
            "[18/200][33/34]\tLoss_D: 1.9091\tLoss_G: 2.1130\tD(x): 0.6927\tD(G(z)): 0.6761 / 0.2158 FID: 13.037384033203125 InceptionScore: 2.565605401992798\n",
            "Epoch 19\n"
          ]
        },
        {
          "metadata": {
            "tags": null
          },
          "name": "stderr",
          "output_type": "stream",
          "text": [
            "100%|██████████| 34/34 [00:08<00:00,  4.13it/s]\n"
          ]
        },
        {
          "metadata": {
            "tags": null
          },
          "name": "stdout",
          "output_type": "stream",
          "text": [
            "[19/200][33/34]\tLoss_D: 1.2693\tLoss_G: 2.5455\tD(x): 0.6626\tD(G(z)): 0.5195 / 0.1278 FID: 12.467911720275879 InceptionScore: 2.5872623920440674\n",
            "Epoch 20\n"
          ]
        },
        {
          "metadata": {
            "tags": null
          },
          "name": "stderr",
          "output_type": "stream",
          "text": [
            "100%|██████████| 34/34 [00:08<00:00,  4.13it/s]\n"
          ]
        },
        {
          "metadata": {
            "tags": null
          },
          "name": "stdout",
          "output_type": "stream",
          "text": [
            "[20/200][33/34]\tLoss_D: 1.2746\tLoss_G: 1.3722\tD(x): 0.5747\tD(G(z)): 0.4742 / 0.3033 FID: 11.953402519226074 InceptionScore: 2.5892183780670166\n",
            "Epoch 21\n"
          ]
        },
        {
          "metadata": {
            "tags": null
          },
          "name": "stderr",
          "output_type": "stream",
          "text": [
            "100%|██████████| 34/34 [00:08<00:00,  4.17it/s]\n"
          ]
        },
        {
          "metadata": {
            "tags": null
          },
          "name": "stdout",
          "output_type": "stream",
          "text": [
            "[21/200][33/34]\tLoss_D: 2.2240\tLoss_G: 1.6366\tD(x): 0.2996\tD(G(z)): 0.6057 / 0.2389 FID: 11.3942289352417 InceptionScore: 2.603187322616577\n",
            "Epoch 22\n"
          ]
        },
        {
          "metadata": {
            "tags": null
          },
          "name": "stderr",
          "output_type": "stream",
          "text": [
            "100%|██████████| 34/34 [00:08<00:00,  4.12it/s]\n"
          ]
        },
        {
          "metadata": {
            "tags": null
          },
          "name": "stdout",
          "output_type": "stream",
          "text": [
            "[22/200][33/34]\tLoss_D: 1.0013\tLoss_G: 1.2530\tD(x): 0.5134\tD(G(z)): 0.2401 / 0.3119 FID: 10.899665832519531 InceptionScore: 2.6084346771240234\n",
            "Epoch 23\n"
          ]
        },
        {
          "metadata": {
            "tags": null
          },
          "name": "stderr",
          "output_type": "stream",
          "text": [
            "100%|██████████| 34/34 [00:08<00:00,  4.13it/s]\n"
          ]
        },
        {
          "metadata": {
            "tags": null
          },
          "name": "stdout",
          "output_type": "stream",
          "text": [
            "[23/200][33/34]\tLoss_D: 1.4147\tLoss_G: 1.4754\tD(x): 0.4637\tD(G(z)): 0.4469 / 0.2721 FID: 10.438553810119629 InceptionScore: 2.62495493888855\n",
            "Epoch 24\n"
          ]
        },
        {
          "metadata": {
            "tags": null
          },
          "name": "stderr",
          "output_type": "stream",
          "text": [
            "100%|██████████| 34/34 [00:08<00:00,  4.14it/s]\n"
          ]
        },
        {
          "metadata": {
            "tags": null
          },
          "name": "stdout",
          "output_type": "stream",
          "text": [
            "[24/200][33/34]\tLoss_D: 2.0676\tLoss_G: 1.0521\tD(x): 0.2947\tD(G(z)): 0.4618 / 0.3892 FID: 10.021500587463379 InceptionScore: 2.6451215744018555\n",
            "Epoch 25\n"
          ]
        },
        {
          "metadata": {
            "tags": null
          },
          "name": "stderr",
          "output_type": "stream",
          "text": [
            "100%|██████████| 34/34 [00:08<00:00,  4.10it/s]\n"
          ]
        },
        {
          "metadata": {
            "tags": null
          },
          "name": "stdout",
          "output_type": "stream",
          "text": [
            "[25/200][33/34]\tLoss_D: 1.2883\tLoss_G: 1.2835\tD(x): 0.5701\tD(G(z)): 0.4324 / 0.3134 FID: 9.646395683288574 InceptionScore: 2.6531102657318115\n",
            "Epoch 26\n"
          ]
        },
        {
          "metadata": {
            "tags": null
          },
          "name": "stderr",
          "output_type": "stream",
          "text": [
            "100%|██████████| 34/34 [00:08<00:00,  4.10it/s]\n"
          ]
        },
        {
          "metadata": {
            "tags": null
          },
          "name": "stdout",
          "output_type": "stream",
          "text": [
            "[26/200][33/34]\tLoss_D: 0.9108\tLoss_G: 1.1465\tD(x): 0.6390\tD(G(z)): 0.3473 / 0.3260 FID: 9.28776741027832 InceptionScore: 2.665936231613159\n",
            "Epoch 27\n"
          ]
        },
        {
          "metadata": {
            "tags": null
          },
          "name": "stderr",
          "output_type": "stream",
          "text": [
            "100%|██████████| 34/34 [00:08<00:00,  4.12it/s]\n"
          ]
        },
        {
          "metadata": {
            "tags": null
          },
          "name": "stdout",
          "output_type": "stream",
          "text": [
            "[27/200][33/34]\tLoss_D: 1.3879\tLoss_G: 1.0798\tD(x): 0.5678\tD(G(z)): 0.4966 / 0.3649 FID: 8.97212028503418 InceptionScore: 2.6594462394714355\n",
            "Epoch 28\n"
          ]
        },
        {
          "metadata": {
            "tags": null
          },
          "name": "stderr",
          "output_type": "stream",
          "text": [
            "100%|██████████| 34/34 [00:08<00:00,  4.08it/s]\n"
          ]
        },
        {
          "metadata": {
            "tags": null
          },
          "name": "stdout",
          "output_type": "stream",
          "text": [
            "[28/200][33/34]\tLoss_D: 1.3948\tLoss_G: 0.9347\tD(x): 0.5099\tD(G(z)): 0.4694 / 0.4210 FID: 8.6293306350708 InceptionScore: 2.6670644283294678\n",
            "Epoch 29\n"
          ]
        },
        {
          "metadata": {
            "tags": null
          },
          "name": "stderr",
          "output_type": "stream",
          "text": [
            "100%|██████████| 34/34 [00:08<00:00,  4.09it/s]\n"
          ]
        },
        {
          "metadata": {
            "tags": null
          },
          "name": "stdout",
          "output_type": "stream",
          "text": [
            "[29/200][33/34]\tLoss_D: 1.7079\tLoss_G: 1.0740\tD(x): 0.4006\tD(G(z)): 0.4927 / 0.3669 FID: 8.340191841125488 InceptionScore: 2.675213098526001\n",
            "Epoch 30\n"
          ]
        },
        {
          "metadata": {
            "tags": null
          },
          "name": "stderr",
          "output_type": "stream",
          "text": [
            "100%|██████████| 34/34 [00:08<00:00,  4.09it/s]\n"
          ]
        },
        {
          "metadata": {
            "tags": null
          },
          "name": "stdout",
          "output_type": "stream",
          "text": [
            "[30/200][33/34]\tLoss_D: 2.1052\tLoss_G: 1.0642\tD(x): 0.3161\tD(G(z)): 0.3631 / 0.4760 FID: 8.068259239196777 InceptionScore: 2.680803060531616\n",
            "Epoch 31\n"
          ]
        },
        {
          "metadata": {
            "tags": null
          },
          "name": "stderr",
          "output_type": "stream",
          "text": [
            "100%|██████████| 34/34 [00:08<00:00,  4.06it/s]\n"
          ]
        },
        {
          "metadata": {
            "tags": null
          },
          "name": "stdout",
          "output_type": "stream",
          "text": [
            "[31/200][33/34]\tLoss_D: 1.6315\tLoss_G: 1.4632\tD(x): 0.4429\tD(G(z)): 0.5002 / 0.2939 FID: 7.812167644500732 InceptionScore: 2.6753034591674805\n",
            "Epoch 32\n"
          ]
        },
        {
          "metadata": {
            "tags": null
          },
          "name": "stderr",
          "output_type": "stream",
          "text": [
            "100%|██████████| 34/34 [00:08<00:00,  4.04it/s]\n"
          ]
        },
        {
          "metadata": {
            "tags": null
          },
          "name": "stdout",
          "output_type": "stream",
          "text": [
            "[32/200][33/34]\tLoss_D: 1.7754\tLoss_G: 0.6745\tD(x): 0.4183\tD(G(z)): 0.4896 / 0.5532 FID: 7.594908237457275 InceptionScore: 2.676490545272827\n",
            "Epoch 33\n"
          ]
        },
        {
          "metadata": {
            "tags": null
          },
          "name": "stderr",
          "output_type": "stream",
          "text": [
            "100%|██████████| 34/34 [00:08<00:00,  4.08it/s]\n"
          ]
        },
        {
          "metadata": {
            "tags": null
          },
          "name": "stdout",
          "output_type": "stream",
          "text": [
            "[33/200][33/34]\tLoss_D: 1.1294\tLoss_G: 0.5579\tD(x): 0.6027\tD(G(z)): 0.4318 / 0.5825 FID: 7.37091064453125 InceptionScore: 2.686075448989868\n",
            "Epoch 34\n"
          ]
        },
        {
          "metadata": {
            "tags": null
          },
          "name": "stderr",
          "output_type": "stream",
          "text": [
            "100%|██████████| 34/34 [00:08<00:00,  4.07it/s]\n"
          ]
        },
        {
          "metadata": {
            "tags": null
          },
          "name": "stdout",
          "output_type": "stream",
          "text": [
            "[34/200][33/34]\tLoss_D: 1.3067\tLoss_G: 1.2390\tD(x): 0.5348\tD(G(z)): 0.4826 / 0.3052 FID: 7.1788740158081055 InceptionScore: 2.686434507369995\n",
            "Epoch 35\n"
          ]
        },
        {
          "metadata": {
            "tags": null
          },
          "name": "stderr",
          "output_type": "stream",
          "text": [
            "100%|██████████| 34/34 [00:08<00:00,  4.09it/s]\n"
          ]
        },
        {
          "metadata": {
            "tags": null
          },
          "name": "stdout",
          "output_type": "stream",
          "text": [
            "[35/200][33/34]\tLoss_D: 1.5958\tLoss_G: 0.6802\tD(x): 0.4282\tD(G(z)): 0.3868 / 0.5465 FID: 7.022695064544678 InceptionScore: 2.6832282543182373\n",
            "Epoch 36\n"
          ]
        },
        {
          "metadata": {
            "tags": null
          },
          "name": "stderr",
          "output_type": "stream",
          "text": [
            "100%|██████████| 34/34 [00:08<00:00,  4.07it/s]\n"
          ]
        },
        {
          "metadata": {
            "tags": null
          },
          "name": "stdout",
          "output_type": "stream",
          "text": [
            "[36/200][33/34]\tLoss_D: 1.7133\tLoss_G: 1.4317\tD(x): 0.5129\tD(G(z)): 0.5893 / 0.2851 FID: 6.8674750328063965 InceptionScore: 2.6852610111236572\n",
            "Epoch 37\n"
          ]
        },
        {
          "metadata": {
            "tags": null
          },
          "name": "stderr",
          "output_type": "stream",
          "text": [
            "100%|██████████| 34/34 [00:08<00:00,  4.06it/s]\n"
          ]
        },
        {
          "metadata": {
            "tags": null
          },
          "name": "stdout",
          "output_type": "stream",
          "text": [
            "[37/200][33/34]\tLoss_D: 1.7116\tLoss_G: 1.3549\tD(x): 0.5196\tD(G(z)): 0.6400 / 0.2607 FID: 6.722050189971924 InceptionScore: 2.6862971782684326\n",
            "Epoch 38\n"
          ]
        },
        {
          "metadata": {
            "tags": null
          },
          "name": "stderr",
          "output_type": "stream",
          "text": [
            "100%|██████████| 34/34 [00:08<00:00,  4.07it/s]\n"
          ]
        },
        {
          "metadata": {
            "tags": null
          },
          "name": "stdout",
          "output_type": "stream",
          "text": [
            "[38/200][33/34]\tLoss_D: 1.3922\tLoss_G: 0.8997\tD(x): 0.4491\tD(G(z)): 0.4065 / 0.4284 FID: 6.567655086517334 InceptionScore: 2.688955545425415\n",
            "Epoch 39\n"
          ]
        },
        {
          "metadata": {
            "tags": null
          },
          "name": "stderr",
          "output_type": "stream",
          "text": [
            "100%|██████████| 34/34 [00:08<00:00,  4.06it/s]\n"
          ]
        },
        {
          "metadata": {
            "tags": null
          },
          "name": "stdout",
          "output_type": "stream",
          "text": [
            "[39/200][33/34]\tLoss_D: 1.4913\tLoss_G: 0.9848\tD(x): 0.4076\tD(G(z)): 0.4157 / 0.3890 FID: 6.399127006530762 InceptionScore: 2.6957924365997314\n",
            "Epoch 40\n"
          ]
        },
        {
          "metadata": {
            "tags": null
          },
          "name": "stderr",
          "output_type": "stream",
          "text": [
            "100%|██████████| 34/34 [00:08<00:00,  4.03it/s]\n"
          ]
        },
        {
          "metadata": {
            "tags": null
          },
          "name": "stdout",
          "output_type": "stream",
          "text": [
            "[40/200][33/34]\tLoss_D: 1.2751\tLoss_G: 1.0649\tD(x): 0.4836\tD(G(z)): 0.3883 / 0.3495 FID: 6.253641605377197 InceptionScore: 2.6937501430511475\n",
            "Epoch 41\n"
          ]
        },
        {
          "metadata": {
            "tags": null
          },
          "name": "stderr",
          "output_type": "stream",
          "text": [
            "100%|██████████| 34/34 [00:08<00:00,  4.04it/s]\n"
          ]
        },
        {
          "metadata": {
            "tags": null
          },
          "name": "stdout",
          "output_type": "stream",
          "text": [
            "[41/200][33/34]\tLoss_D: 1.2324\tLoss_G: 1.1772\tD(x): 0.4368\tD(G(z)): 0.3103 / 0.3632 FID: 6.128174304962158 InceptionScore: 2.6979734897613525\n",
            "Epoch 42\n"
          ]
        },
        {
          "metadata": {
            "tags": null
          },
          "name": "stderr",
          "output_type": "stream",
          "text": [
            "100%|██████████| 34/34 [00:08<00:00,  4.05it/s]\n"
          ]
        },
        {
          "metadata": {
            "tags": null
          },
          "name": "stdout",
          "output_type": "stream",
          "text": [
            "[42/200][33/34]\tLoss_D: 1.5112\tLoss_G: 1.0492\tD(x): 0.5260\tD(G(z)): 0.5409 / 0.3968 FID: 5.999166488647461 InceptionScore: 2.7037785053253174\n",
            "Epoch 43\n"
          ]
        },
        {
          "metadata": {
            "tags": null
          },
          "name": "stderr",
          "output_type": "stream",
          "text": [
            "100%|██████████| 34/34 [00:08<00:00,  4.02it/s]\n"
          ]
        },
        {
          "metadata": {
            "tags": null
          },
          "name": "stdout",
          "output_type": "stream",
          "text": [
            "[43/200][33/34]\tLoss_D: 1.9317\tLoss_G: 0.9855\tD(x): 0.4814\tD(G(z)): 0.6184 / 0.3864 FID: 5.8845367431640625 InceptionScore: 2.7058422565460205\n",
            "Epoch 44\n"
          ]
        },
        {
          "metadata": {
            "tags": null
          },
          "name": "stderr",
          "output_type": "stream",
          "text": [
            "100%|██████████| 34/34 [00:08<00:00,  4.01it/s]\n"
          ]
        },
        {
          "metadata": {
            "tags": null
          },
          "name": "stdout",
          "output_type": "stream",
          "text": [
            "[44/200][33/34]\tLoss_D: 1.2923\tLoss_G: 0.7626\tD(x): 0.5164\tD(G(z)): 0.4185 / 0.4992 FID: 5.779508113861084 InceptionScore: 2.7049009799957275\n",
            "Epoch 45\n"
          ]
        },
        {
          "metadata": {
            "tags": null
          },
          "name": "stderr",
          "output_type": "stream",
          "text": [
            "100%|██████████| 34/34 [00:08<00:00,  4.04it/s]\n"
          ]
        },
        {
          "metadata": {
            "tags": null
          },
          "name": "stdout",
          "output_type": "stream",
          "text": [
            "[45/200][33/34]\tLoss_D: 1.5031\tLoss_G: 1.0992\tD(x): 0.5100\tD(G(z)): 0.5369 / 0.3410 FID: 5.651156902313232 InceptionScore: 2.7117059230804443\n",
            "Epoch 46\n"
          ]
        },
        {
          "metadata": {
            "tags": null
          },
          "name": "stderr",
          "output_type": "stream",
          "text": [
            "100%|██████████| 34/34 [00:08<00:00,  4.00it/s]\n"
          ]
        },
        {
          "metadata": {
            "tags": null
          },
          "name": "stdout",
          "output_type": "stream",
          "text": [
            "[46/200][33/34]\tLoss_D: 2.0101\tLoss_G: 0.5839\tD(x): 0.3210\tD(G(z)): 0.5140 / 0.5715 FID: 5.540881633758545 InceptionScore: 2.7125401496887207\n",
            "Epoch 47\n"
          ]
        },
        {
          "metadata": {
            "tags": null
          },
          "name": "stderr",
          "output_type": "stream",
          "text": [
            "100%|██████████| 34/34 [00:08<00:00,  4.02it/s]\n"
          ]
        },
        {
          "metadata": {
            "tags": null
          },
          "name": "stdout",
          "output_type": "stream",
          "text": [
            "[47/200][33/34]\tLoss_D: 1.1982\tLoss_G: 0.6923\tD(x): 0.6625\tD(G(z)): 0.5162 / 0.5127 FID: 5.437923431396484 InceptionScore: 2.7132043838500977\n",
            "Epoch 48\n"
          ]
        },
        {
          "metadata": {
            "tags": null
          },
          "name": "stderr",
          "output_type": "stream",
          "text": [
            "100%|██████████| 34/34 [00:08<00:00,  4.04it/s]\n"
          ]
        },
        {
          "metadata": {
            "tags": null
          },
          "name": "stdout",
          "output_type": "stream",
          "text": [
            "[48/200][33/34]\tLoss_D: 1.5158\tLoss_G: 1.1388\tD(x): 0.4172\tD(G(z)): 0.3977 / 0.3664 FID: 5.343171119689941 InceptionScore: 2.7144453525543213\n",
            "Epoch 49\n"
          ]
        },
        {
          "metadata": {
            "tags": null
          },
          "name": "stderr",
          "output_type": "stream",
          "text": [
            "100%|██████████| 34/34 [00:08<00:00,  4.01it/s]\n"
          ]
        },
        {
          "metadata": {
            "tags": null
          },
          "name": "stdout",
          "output_type": "stream",
          "text": [
            "[49/200][33/34]\tLoss_D: 1.4056\tLoss_G: 0.9124\tD(x): 0.4951\tD(G(z)): 0.4682 / 0.4148 FID: 5.240789413452148 InceptionScore: 2.7171993255615234\n",
            "Epoch 50\n"
          ]
        },
        {
          "metadata": {
            "tags": null
          },
          "name": "stderr",
          "output_type": "stream",
          "text": [
            "100%|██████████| 34/34 [00:08<00:00,  3.97it/s]\n"
          ]
        },
        {
          "metadata": {
            "tags": null
          },
          "name": "stdout",
          "output_type": "stream",
          "text": [
            "[50/200][33/34]\tLoss_D: 1.2878\tLoss_G: 0.7868\tD(x): 0.4828\tD(G(z)): 0.3392 / 0.4820 FID: 5.142163276672363 InceptionScore: 2.7184791564941406\n",
            "Epoch 51\n"
          ]
        },
        {
          "metadata": {
            "tags": null
          },
          "name": "stderr",
          "output_type": "stream",
          "text": [
            "100%|██████████| 34/34 [00:08<00:00,  4.03it/s]\n"
          ]
        },
        {
          "metadata": {
            "tags": null
          },
          "name": "stdout",
          "output_type": "stream",
          "text": [
            "[51/200][33/34]\tLoss_D: 1.5797\tLoss_G: 0.9373\tD(x): 0.4508\tD(G(z)): 0.5258 / 0.4208 FID: 5.03751802444458 InceptionScore: 2.717181921005249\n",
            "Epoch 52\n"
          ]
        },
        {
          "metadata": {
            "tags": null
          },
          "name": "stderr",
          "output_type": "stream",
          "text": [
            "100%|██████████| 34/34 [00:08<00:00,  3.97it/s]\n"
          ]
        },
        {
          "metadata": {
            "tags": null
          },
          "name": "stdout",
          "output_type": "stream",
          "text": [
            "[52/200][33/34]\tLoss_D: 1.5041\tLoss_G: 0.7177\tD(x): 0.3977\tD(G(z)): 0.3532 / 0.5029 FID: 4.941237926483154 InceptionScore: 2.715818166732788\n",
            "Epoch 53\n"
          ]
        },
        {
          "metadata": {
            "tags": null
          },
          "name": "stderr",
          "output_type": "stream",
          "text": [
            "100%|██████████| 34/34 [00:08<00:00,  3.96it/s]\n"
          ]
        },
        {
          "metadata": {
            "tags": null
          },
          "name": "stdout",
          "output_type": "stream",
          "text": [
            "[53/200][33/34]\tLoss_D: 1.7336\tLoss_G: 1.1579\tD(x): 0.5207\tD(G(z)): 0.6224 / 0.3354 FID: 4.862129211425781 InceptionScore: 2.7126030921936035\n",
            "Epoch 54\n"
          ]
        },
        {
          "metadata": {
            "tags": null
          },
          "name": "stderr",
          "output_type": "stream",
          "text": [
            "100%|██████████| 34/34 [00:08<00:00,  4.02it/s]\n"
          ]
        },
        {
          "metadata": {
            "tags": null
          },
          "name": "stdout",
          "output_type": "stream",
          "text": [
            "[54/200][33/34]\tLoss_D: 1.6241\tLoss_G: 0.8092\tD(x): 0.3500\tD(G(z)): 0.3776 / 0.4475 FID: 4.769629001617432 InceptionScore: 2.7137084007263184\n",
            "Epoch 55\n"
          ]
        },
        {
          "metadata": {
            "tags": null
          },
          "name": "stderr",
          "output_type": "stream",
          "text": [
            "100%|██████████| 34/34 [00:08<00:00,  3.97it/s]\n"
          ]
        },
        {
          "metadata": {
            "tags": null
          },
          "name": "stdout",
          "output_type": "stream",
          "text": [
            "[55/200][33/34]\tLoss_D: 1.4602\tLoss_G: 1.0022\tD(x): 0.4096\tD(G(z)): 0.3922 / 0.3999 FID: 4.693567276000977 InceptionScore: 2.713411331176758\n",
            "Epoch 56\n"
          ]
        },
        {
          "metadata": {
            "tags": null
          },
          "name": "stderr",
          "output_type": "stream",
          "text": [
            "100%|██████████| 34/34 [00:08<00:00,  3.99it/s]\n"
          ]
        },
        {
          "metadata": {
            "tags": null
          },
          "name": "stdout",
          "output_type": "stream",
          "text": [
            "[56/200][33/34]\tLoss_D: 1.1476\tLoss_G: 0.9242\tD(x): 0.5670\tD(G(z)): 0.3752 / 0.4045 FID: 4.613491058349609 InceptionScore: 2.7127251625061035\n",
            "Epoch 57\n"
          ]
        },
        {
          "metadata": {
            "tags": null
          },
          "name": "stderr",
          "output_type": "stream",
          "text": [
            "100%|██████████| 34/34 [00:08<00:00,  4.02it/s]\n"
          ]
        },
        {
          "metadata": {
            "tags": null
          },
          "name": "stdout",
          "output_type": "stream",
          "text": [
            "[57/200][33/34]\tLoss_D: 1.2293\tLoss_G: 0.9920\tD(x): 0.5210\tD(G(z)): 0.4175 / 0.3777 FID: 4.532705783843994 InceptionScore: 2.7112314701080322\n",
            "Epoch 58\n"
          ]
        },
        {
          "metadata": {
            "tags": null
          },
          "name": "stderr",
          "output_type": "stream",
          "text": [
            "100%|██████████| 34/34 [00:08<00:00,  3.96it/s]\n"
          ]
        },
        {
          "metadata": {
            "tags": null
          },
          "name": "stdout",
          "output_type": "stream",
          "text": [
            "[58/200][33/34]\tLoss_D: 1.8171\tLoss_G: 1.2826\tD(x): 0.4262\tD(G(z)): 0.5900 / 0.3363 FID: 4.450040340423584 InceptionScore: 2.7124390602111816\n",
            "Epoch 59\n"
          ]
        },
        {
          "metadata": {
            "tags": null
          },
          "name": "stderr",
          "output_type": "stream",
          "text": [
            "100%|██████████| 34/34 [00:08<00:00,  3.96it/s]\n"
          ]
        },
        {
          "metadata": {
            "tags": null
          },
          "name": "stdout",
          "output_type": "stream",
          "text": [
            "[59/200][33/34]\tLoss_D: 1.9721\tLoss_G: 2.2903\tD(x): 0.4179\tD(G(z)): 0.6287 / 0.1550 FID: 4.360729217529297 InceptionScore: 2.7147185802459717\n",
            "Epoch 60\n"
          ]
        },
        {
          "metadata": {
            "tags": null
          },
          "name": "stderr",
          "output_type": "stream",
          "text": [
            "100%|██████████| 34/34 [00:08<00:00,  4.00it/s]\n"
          ]
        },
        {
          "metadata": {
            "tags": null
          },
          "name": "stdout",
          "output_type": "stream",
          "text": [
            "[60/200][33/34]\tLoss_D: 1.7269\tLoss_G: 0.9515\tD(x): 0.4147\tD(G(z)): 0.5156 / 0.4010 FID: 4.281464576721191 InceptionScore: 2.715083599090576\n",
            "Epoch 61\n"
          ]
        },
        {
          "metadata": {
            "tags": null
          },
          "name": "stderr",
          "output_type": "stream",
          "text": [
            "100%|██████████| 34/34 [00:08<00:00,  3.95it/s]\n"
          ]
        },
        {
          "metadata": {
            "tags": null
          },
          "name": "stdout",
          "output_type": "stream",
          "text": [
            "[61/200][33/34]\tLoss_D: 1.1165\tLoss_G: 0.8150\tD(x): 0.5876\tD(G(z)): 0.4010 / 0.4588 FID: 4.204659938812256 InceptionScore: 2.713228225708008\n",
            "Epoch 62\n"
          ]
        },
        {
          "metadata": {
            "tags": null
          },
          "name": "stderr",
          "output_type": "stream",
          "text": [
            "100%|██████████| 34/34 [00:08<00:00,  3.93it/s]\n"
          ]
        },
        {
          "metadata": {
            "tags": null
          },
          "name": "stdout",
          "output_type": "stream",
          "text": [
            "[62/200][33/34]\tLoss_D: 1.5015\tLoss_G: 0.8460\tD(x): 0.4274\tD(G(z)): 0.4493 / 0.4356 FID: 4.143688678741455 InceptionScore: 2.7106828689575195\n",
            "Epoch 63\n"
          ]
        },
        {
          "metadata": {
            "tags": null
          },
          "name": "stderr",
          "output_type": "stream",
          "text": [
            "100%|██████████| 34/34 [00:08<00:00,  3.95it/s]\n"
          ]
        },
        {
          "metadata": {
            "tags": null
          },
          "name": "stdout",
          "output_type": "stream",
          "text": [
            "[63/200][33/34]\tLoss_D: 1.5645\tLoss_G: 0.9965\tD(x): 0.4759\tD(G(z)): 0.5028 / 0.3731 FID: 4.073718070983887 InceptionScore: 2.7100942134857178\n",
            "Epoch 64\n"
          ]
        },
        {
          "metadata": {
            "tags": null
          },
          "name": "stderr",
          "output_type": "stream",
          "text": [
            "100%|██████████| 34/34 [00:08<00:00,  3.97it/s]\n"
          ]
        },
        {
          "metadata": {
            "tags": null
          },
          "name": "stdout",
          "output_type": "stream",
          "text": [
            "[64/200][33/34]\tLoss_D: 1.4075\tLoss_G: 0.9841\tD(x): 0.4651\tD(G(z)): 0.4479 / 0.3926 FID: 4.000879764556885 InceptionScore: 2.7103099822998047\n",
            "Epoch 65\n"
          ]
        },
        {
          "metadata": {
            "tags": null
          },
          "name": "stderr",
          "output_type": "stream",
          "text": [
            "100%|██████████| 34/34 [00:08<00:00,  3.91it/s]\n"
          ]
        },
        {
          "metadata": {
            "tags": null
          },
          "name": "stdout",
          "output_type": "stream",
          "text": [
            "[65/200][33/34]\tLoss_D: 1.4657\tLoss_G: 1.4530\tD(x): 0.6055\tD(G(z)): 0.5733 / 0.2911 FID: 3.9406042098999023 InceptionScore: 2.709916114807129\n",
            "Epoch 66\n"
          ]
        },
        {
          "metadata": {
            "tags": null
          },
          "name": "stderr",
          "output_type": "stream",
          "text": [
            "100%|██████████| 34/34 [00:08<00:00,  3.96it/s]\n"
          ]
        },
        {
          "metadata": {
            "tags": null
          },
          "name": "stdout",
          "output_type": "stream",
          "text": [
            "[66/200][33/34]\tLoss_D: 1.0854\tLoss_G: 1.0495\tD(x): 0.6624\tD(G(z)): 0.4692 / 0.3708 FID: 3.8712337017059326 InceptionScore: 2.708411693572998\n",
            "Epoch 67\n"
          ]
        },
        {
          "metadata": {
            "tags": null
          },
          "name": "stderr",
          "output_type": "stream",
          "text": [
            "100%|██████████| 34/34 [00:08<00:00,  3.99it/s]\n"
          ]
        },
        {
          "metadata": {
            "tags": null
          },
          "name": "stdout",
          "output_type": "stream",
          "text": [
            "[67/200][33/34]\tLoss_D: 1.3134\tLoss_G: 0.7420\tD(x): 0.4017\tD(G(z)): 0.2523 / 0.4915 FID: 3.8101038932800293 InceptionScore: 2.710033416748047\n",
            "Epoch 68\n"
          ]
        },
        {
          "metadata": {
            "tags": null
          },
          "name": "stderr",
          "output_type": "stream",
          "text": [
            "100%|██████████| 34/34 [00:08<00:00,  3.95it/s]\n"
          ]
        },
        {
          "metadata": {
            "tags": null
          },
          "name": "stdout",
          "output_type": "stream",
          "text": [
            "[68/200][33/34]\tLoss_D: 1.3668\tLoss_G: 1.3307\tD(x): 0.4546\tD(G(z)): 0.4154 / 0.2799 FID: 3.7511706352233887 InceptionScore: 2.7102034091949463\n",
            "Epoch 69\n"
          ]
        },
        {
          "metadata": {
            "tags": null
          },
          "name": "stderr",
          "output_type": "stream",
          "text": [
            "100%|██████████| 34/34 [00:08<00:00,  3.95it/s]\n"
          ]
        },
        {
          "metadata": {
            "tags": null
          },
          "name": "stdout",
          "output_type": "stream",
          "text": [
            "[69/200][33/34]\tLoss_D: 2.0005\tLoss_G: 0.9652\tD(x): 0.3026\tD(G(z)): 0.5209 / 0.4001 FID: 3.6995019912719727 InceptionScore: 2.708928346633911\n",
            "Epoch 70\n"
          ]
        },
        {
          "metadata": {
            "tags": null
          },
          "name": "stderr",
          "output_type": "stream",
          "text": [
            "100%|██████████| 34/34 [00:08<00:00,  3.95it/s]\n"
          ]
        },
        {
          "metadata": {
            "tags": null
          },
          "name": "stdout",
          "output_type": "stream",
          "text": [
            "[70/200][33/34]\tLoss_D: 1.4681\tLoss_G: 0.9672\tD(x): 0.4551\tD(G(z)): 0.4881 / 0.4073 FID: 3.647043466567993 InceptionScore: 2.706962823867798\n",
            "Epoch 71\n"
          ]
        },
        {
          "metadata": {
            "tags": null
          },
          "name": "stderr",
          "output_type": "stream",
          "text": [
            "100%|██████████| 34/34 [00:08<00:00,  3.93it/s]\n"
          ]
        },
        {
          "metadata": {
            "tags": null
          },
          "name": "stdout",
          "output_type": "stream",
          "text": [
            "[71/200][33/34]\tLoss_D: 1.3858\tLoss_G: 1.1926\tD(x): 0.5411\tD(G(z)): 0.5010 / 0.3103 FID: 3.5885555744171143 InceptionScore: 2.708362340927124\n",
            "Epoch 72\n"
          ]
        },
        {
          "metadata": {
            "tags": null
          },
          "name": "stderr",
          "output_type": "stream",
          "text": [
            "100%|██████████| 34/34 [00:08<00:00,  3.94it/s]\n"
          ]
        },
        {
          "metadata": {
            "tags": null
          },
          "name": "stdout",
          "output_type": "stream",
          "text": [
            "[72/200][33/34]\tLoss_D: 1.2607\tLoss_G: 1.4946\tD(x): 0.6540\tD(G(z)): 0.5378 / 0.2506 FID: 3.530148983001709 InceptionScore: 2.7103447914123535\n",
            "Epoch 73\n"
          ]
        },
        {
          "metadata": {
            "tags": null
          },
          "name": "stderr",
          "output_type": "stream",
          "text": [
            "100%|██████████| 34/34 [00:08<00:00,  3.93it/s]\n"
          ]
        },
        {
          "metadata": {
            "tags": null
          },
          "name": "stdout",
          "output_type": "stream",
          "text": [
            "[73/200][33/34]\tLoss_D: 1.0346\tLoss_G: 0.8768\tD(x): 0.4906\tD(G(z)): 0.2621 / 0.4194 FID: 3.48262882232666 InceptionScore: 2.7093403339385986\n",
            "Epoch 74\n"
          ]
        },
        {
          "metadata": {
            "tags": null
          },
          "name": "stderr",
          "output_type": "stream",
          "text": [
            "100%|██████████| 34/34 [00:08<00:00,  3.93it/s]\n"
          ]
        },
        {
          "metadata": {
            "tags": null
          },
          "name": "stdout",
          "output_type": "stream",
          "text": [
            "[74/200][33/34]\tLoss_D: 1.8524\tLoss_G: 1.0369\tD(x): 0.4029\tD(G(z)): 0.5792 / 0.4168 FID: 3.4327030181884766 InceptionScore: 2.7083301544189453\n",
            "Epoch 75\n"
          ]
        },
        {
          "metadata": {
            "tags": null
          },
          "name": "stderr",
          "output_type": "stream",
          "text": [
            "100%|██████████| 34/34 [00:08<00:00,  3.96it/s]\n"
          ]
        },
        {
          "metadata": {
            "tags": null
          },
          "name": "stdout",
          "output_type": "stream",
          "text": [
            "[75/200][33/34]\tLoss_D: 1.3198\tLoss_G: 1.1193\tD(x): 0.5186\tD(G(z)): 0.4668 / 0.3290 FID: 3.3835997581481934 InceptionScore: 2.710850477218628\n",
            "Epoch 76\n"
          ]
        },
        {
          "metadata": {
            "tags": null
          },
          "name": "stderr",
          "output_type": "stream",
          "text": [
            "100%|██████████| 34/34 [00:08<00:00,  3.92it/s]\n"
          ]
        },
        {
          "metadata": {
            "tags": null
          },
          "name": "stdout",
          "output_type": "stream",
          "text": [
            "[76/200][33/34]\tLoss_D: 1.2279\tLoss_G: 1.1449\tD(x): 0.5771\tD(G(z)): 0.4748 / 0.3349 FID: 3.3373525142669678 InceptionScore: 2.710859775543213\n",
            "Epoch 77\n"
          ]
        },
        {
          "metadata": {
            "tags": null
          },
          "name": "stderr",
          "output_type": "stream",
          "text": [
            "100%|██████████| 34/34 [00:08<00:00,  3.92it/s]\n"
          ]
        },
        {
          "metadata": {
            "tags": null
          },
          "name": "stdout",
          "output_type": "stream",
          "text": [
            "[77/200][33/34]\tLoss_D: 1.4191\tLoss_G: 1.0815\tD(x): 0.4625\tD(G(z)): 0.4745 / 0.3770 FID: 3.2899653911590576 InceptionScore: 2.7118687629699707\n",
            "Epoch 78\n"
          ]
        },
        {
          "metadata": {
            "tags": null
          },
          "name": "stderr",
          "output_type": "stream",
          "text": [
            "100%|██████████| 34/34 [00:08<00:00,  3.91it/s]\n"
          ]
        },
        {
          "metadata": {
            "tags": null
          },
          "name": "stdout",
          "output_type": "stream",
          "text": [
            "[78/200][33/34]\tLoss_D: 1.1893\tLoss_G: 1.0619\tD(x): 0.4868\tD(G(z)): 0.3570 / 0.3559 FID: 3.241736888885498 InceptionScore: 2.7132835388183594\n",
            "Epoch 79\n"
          ]
        },
        {
          "metadata": {
            "tags": null
          },
          "name": "stderr",
          "output_type": "stream",
          "text": [
            "100%|██████████| 34/34 [00:08<00:00,  3.93it/s]\n"
          ]
        },
        {
          "metadata": {
            "tags": null
          },
          "name": "stdout",
          "output_type": "stream",
          "text": [
            "[79/200][33/34]\tLoss_D: 0.9743\tLoss_G: 1.3017\tD(x): 0.6572\tD(G(z)): 0.3637 / 0.2809 FID: 3.199659824371338 InceptionScore: 2.7143421173095703\n",
            "Epoch 80\n"
          ]
        },
        {
          "metadata": {
            "tags": null
          },
          "name": "stderr",
          "output_type": "stream",
          "text": [
            "100%|██████████| 34/34 [00:08<00:00,  3.89it/s]\n"
          ]
        },
        {
          "metadata": {
            "tags": null
          },
          "name": "stdout",
          "output_type": "stream",
          "text": [
            "[80/200][33/34]\tLoss_D: 1.3353\tLoss_G: 0.7099\tD(x): 0.4181\tD(G(z)): 0.3361 / 0.5174 FID: 3.158112049102783 InceptionScore: 2.716776132583618\n",
            "Epoch 81\n"
          ]
        },
        {
          "metadata": {
            "tags": null
          },
          "name": "stderr",
          "output_type": "stream",
          "text": [
            "100%|██████████| 34/34 [00:08<00:00,  3.85it/s]\n"
          ]
        },
        {
          "metadata": {
            "tags": null
          },
          "name": "stdout",
          "output_type": "stream",
          "text": [
            "[81/200][33/34]\tLoss_D: 1.7276\tLoss_G: 0.7778\tD(x): 0.3883\tD(G(z)): 0.5157 / 0.4694 FID: 3.1098439693450928 InceptionScore: 2.718845844268799\n",
            "Epoch 82\n"
          ]
        },
        {
          "metadata": {
            "tags": null
          },
          "name": "stderr",
          "output_type": "stream",
          "text": [
            "100%|██████████| 34/34 [00:08<00:00,  3.89it/s]\n"
          ]
        },
        {
          "metadata": {
            "tags": null
          },
          "name": "stdout",
          "output_type": "stream",
          "text": [
            "[82/200][33/34]\tLoss_D: 1.4631\tLoss_G: 1.0072\tD(x): 0.4988\tD(G(z)): 0.5288 / 0.3697 FID: 3.0677545070648193 InceptionScore: 2.718308210372925\n",
            "Epoch 83\n"
          ]
        },
        {
          "metadata": {
            "tags": null
          },
          "name": "stderr",
          "output_type": "stream",
          "text": [
            "100%|██████████| 34/34 [00:08<00:00,  3.93it/s]\n"
          ]
        },
        {
          "metadata": {
            "tags": null
          },
          "name": "stdout",
          "output_type": "stream",
          "text": [
            "[83/200][33/34]\tLoss_D: 0.9734\tLoss_G: 1.9868\tD(x): 0.7509\tD(G(z)): 0.4826 / 0.1676 FID: 3.0295610427856445 InceptionScore: 2.7177722454071045\n",
            "Epoch 84\n"
          ]
        },
        {
          "metadata": {
            "tags": null
          },
          "name": "stderr",
          "output_type": "stream",
          "text": [
            "100%|██████████| 34/34 [00:08<00:00,  3.88it/s]\n"
          ]
        },
        {
          "metadata": {
            "tags": null
          },
          "name": "stdout",
          "output_type": "stream",
          "text": [
            "[84/200][33/34]\tLoss_D: 1.2295\tLoss_G: 1.1558\tD(x): 0.5077\tD(G(z)): 0.4131 / 0.3523 FID: 2.9871530532836914 InceptionScore: 2.7188782691955566\n",
            "Epoch 85\n"
          ]
        },
        {
          "metadata": {
            "tags": null
          },
          "name": "stderr",
          "output_type": "stream",
          "text": [
            "100%|██████████| 34/34 [00:08<00:00,  3.89it/s]\n"
          ]
        },
        {
          "metadata": {
            "tags": null
          },
          "name": "stdout",
          "output_type": "stream",
          "text": [
            "[85/200][33/34]\tLoss_D: 1.6854\tLoss_G: 0.7270\tD(x): 0.3978\tD(G(z)): 0.5031 / 0.4939 FID: 2.9495763778686523 InceptionScore: 2.7189784049987793\n",
            "Epoch 86\n"
          ]
        },
        {
          "metadata": {
            "tags": null
          },
          "name": "stderr",
          "output_type": "stream",
          "text": [
            "100%|██████████| 34/34 [00:08<00:00,  3.86it/s]\n"
          ]
        },
        {
          "metadata": {
            "tags": null
          },
          "name": "stdout",
          "output_type": "stream",
          "text": [
            "[86/200][33/34]\tLoss_D: 1.2977\tLoss_G: 1.3282\tD(x): 0.4725\tD(G(z)): 0.4004 / 0.2692 FID: 2.90901255607605 InceptionScore: 2.718346118927002\n",
            "Epoch 87\n"
          ]
        },
        {
          "metadata": {
            "tags": null
          },
          "name": "stderr",
          "output_type": "stream",
          "text": [
            "100%|██████████| 34/34 [00:08<00:00,  3.84it/s]\n"
          ]
        },
        {
          "metadata": {
            "tags": null
          },
          "name": "stdout",
          "output_type": "stream",
          "text": [
            "[87/200][33/34]\tLoss_D: 1.1429\tLoss_G: 1.4460\tD(x): 0.5046\tD(G(z)): 0.3588 / 0.2634 FID: 2.8716745376586914 InceptionScore: 2.720479726791382\n",
            "Epoch 88\n"
          ]
        },
        {
          "metadata": {
            "tags": null
          },
          "name": "stderr",
          "output_type": "stream",
          "text": [
            "100%|██████████| 34/34 [00:09<00:00,  3.77it/s]\n"
          ]
        },
        {
          "metadata": {
            "tags": null
          },
          "name": "stdout",
          "output_type": "stream",
          "text": [
            "[88/200][33/34]\tLoss_D: 1.3582\tLoss_G: 0.7737\tD(x): 0.4994\tD(G(z)): 0.4715 / 0.4975 FID: 2.8399736881256104 InceptionScore: 2.719351291656494\n",
            "Epoch 89\n"
          ]
        },
        {
          "metadata": {
            "tags": null
          },
          "name": "stderr",
          "output_type": "stream",
          "text": [
            "100%|██████████| 34/34 [00:09<00:00,  3.76it/s]\n"
          ]
        },
        {
          "metadata": {
            "tags": null
          },
          "name": "stdout",
          "output_type": "stream",
          "text": [
            "[89/200][33/34]\tLoss_D: 1.3631\tLoss_G: 0.9231\tD(x): 0.4771\tD(G(z)): 0.4447 / 0.3979 FID: 2.8058829307556152 InceptionScore: 2.720911741256714\n",
            "Epoch 90\n"
          ]
        },
        {
          "metadata": {
            "tags": null
          },
          "name": "stderr",
          "output_type": "stream",
          "text": [
            "100%|██████████| 34/34 [00:09<00:00,  3.71it/s]\n"
          ]
        },
        {
          "metadata": {
            "tags": null
          },
          "name": "stdout",
          "output_type": "stream",
          "text": [
            "[90/200][33/34]\tLoss_D: 1.7521\tLoss_G: 0.7528\tD(x): 0.4059\tD(G(z)): 0.5594 / 0.4743 FID: 2.7705905437469482 InceptionScore: 2.724323272705078\n",
            "Epoch 91\n"
          ]
        },
        {
          "metadata": {
            "tags": null
          },
          "name": "stderr",
          "output_type": "stream",
          "text": [
            "100%|██████████| 34/34 [00:09<00:00,  3.77it/s]\n"
          ]
        },
        {
          "metadata": {
            "tags": null
          },
          "name": "stdout",
          "output_type": "stream",
          "text": [
            "[91/200][33/34]\tLoss_D: 1.2841\tLoss_G: 1.0640\tD(x): 0.5271\tD(G(z)): 0.4525 / 0.3471 FID: 2.734459161758423 InceptionScore: 2.726594924926758\n",
            "Epoch 92\n"
          ]
        },
        {
          "metadata": {
            "tags": null
          },
          "name": "stderr",
          "output_type": "stream",
          "text": [
            "100%|██████████| 34/34 [00:09<00:00,  3.75it/s]\n"
          ]
        },
        {
          "metadata": {
            "tags": null
          },
          "name": "stdout",
          "output_type": "stream",
          "text": [
            "[92/200][33/34]\tLoss_D: 1.4973\tLoss_G: 0.8981\tD(x): 0.5769\tD(G(z)): 0.6044 / 0.4101 FID: 2.6986703872680664 InceptionScore: 2.7266430854797363\n",
            "Epoch 93\n"
          ]
        },
        {
          "metadata": {
            "tags": null
          },
          "name": "stderr",
          "output_type": "stream",
          "text": [
            "100%|██████████| 34/34 [00:09<00:00,  3.73it/s]\n"
          ]
        },
        {
          "metadata": {
            "tags": null
          },
          "name": "stdout",
          "output_type": "stream",
          "text": [
            "[93/200][33/34]\tLoss_D: 1.3899\tLoss_G: 0.8156\tD(x): 0.4573\tD(G(z)): 0.4468 / 0.4827 FID: 2.6653714179992676 InceptionScore: 2.7268941402435303\n",
            "Epoch 94\n"
          ]
        },
        {
          "metadata": {
            "tags": null
          },
          "name": "stderr",
          "output_type": "stream",
          "text": [
            "100%|██████████| 34/34 [00:09<00:00,  3.74it/s]\n"
          ]
        },
        {
          "metadata": {
            "tags": null
          },
          "name": "stdout",
          "output_type": "stream",
          "text": [
            "[94/200][33/34]\tLoss_D: 1.7170\tLoss_G: 1.1825\tD(x): 0.3777\tD(G(z)): 0.4710 / 0.3236 FID: 2.6319313049316406 InceptionScore: 2.7262022495269775\n",
            "Epoch 95\n"
          ]
        },
        {
          "metadata": {
            "tags": null
          },
          "name": "stderr",
          "output_type": "stream",
          "text": [
            "100%|██████████| 34/34 [00:09<00:00,  3.74it/s]\n"
          ]
        },
        {
          "metadata": {
            "tags": null
          },
          "name": "stdout",
          "output_type": "stream",
          "text": [
            "[95/200][33/34]\tLoss_D: 1.5680\tLoss_G: 1.0939\tD(x): 0.3802\tD(G(z)): 0.4362 / 0.3555 FID: 2.6012914180755615 InceptionScore: 2.728111743927002\n",
            "Epoch 96\n"
          ]
        },
        {
          "metadata": {
            "tags": null
          },
          "name": "stderr",
          "output_type": "stream",
          "text": [
            "100%|██████████| 34/34 [00:09<00:00,  3.75it/s]\n"
          ]
        },
        {
          "metadata": {
            "tags": null
          },
          "name": "stdout",
          "output_type": "stream",
          "text": [
            "[96/200][33/34]\tLoss_D: 1.7886\tLoss_G: 0.8215\tD(x): 0.3466\tD(G(z)): 0.5063 / 0.4402 FID: 2.5706262588500977 InceptionScore: 2.728792428970337\n",
            "Epoch 97\n"
          ]
        },
        {
          "metadata": {
            "tags": null
          },
          "name": "stderr",
          "output_type": "stream",
          "text": [
            "100%|██████████| 34/34 [00:09<00:00,  3.74it/s]\n"
          ]
        },
        {
          "metadata": {
            "tags": null
          },
          "name": "stdout",
          "output_type": "stream",
          "text": [
            "[97/200][33/34]\tLoss_D: 1.6023\tLoss_G: 1.2707\tD(x): 0.4638\tD(G(z)): 0.5364 / 0.2904 FID: 2.541426181793213 InceptionScore: 2.727928400039673\n",
            "Epoch 98\n"
          ]
        },
        {
          "metadata": {
            "tags": null
          },
          "name": "stderr",
          "output_type": "stream",
          "text": [
            "100%|██████████| 34/34 [00:09<00:00,  3.66it/s]\n"
          ]
        },
        {
          "metadata": {
            "tags": null
          },
          "name": "stdout",
          "output_type": "stream",
          "text": [
            "[98/200][33/34]\tLoss_D: 1.2281\tLoss_G: 1.5962\tD(x): 0.6083\tD(G(z)): 0.4967 / 0.2466 FID: 2.50911021232605 InceptionScore: 2.73067045211792\n",
            "Epoch 99\n"
          ]
        },
        {
          "metadata": {
            "tags": null
          },
          "name": "stderr",
          "output_type": "stream",
          "text": [
            "100%|██████████| 34/34 [00:09<00:00,  3.72it/s]\n"
          ]
        },
        {
          "metadata": {
            "tags": null
          },
          "name": "stdout",
          "output_type": "stream",
          "text": [
            "[99/200][33/34]\tLoss_D: 1.3981\tLoss_G: 0.9305\tD(x): 0.5472\tD(G(z)): 0.5157 / 0.3998 FID: 2.483379602432251 InceptionScore: 2.730677366256714\n",
            "Epoch 100\n"
          ]
        },
        {
          "metadata": {
            "tags": null
          },
          "name": "stderr",
          "output_type": "stream",
          "text": [
            "100%|██████████| 34/34 [00:09<00:00,  3.74it/s]\n"
          ]
        },
        {
          "metadata": {
            "tags": null
          },
          "name": "stdout",
          "output_type": "stream",
          "text": [
            "[100/200][33/34]\tLoss_D: 1.2756\tLoss_G: 0.7868\tD(x): 0.4933\tD(G(z)): 0.4217 / 0.4628 FID: 2.4571080207824707 InceptionScore: 2.730304479598999\n",
            "Epoch 101\n"
          ]
        },
        {
          "metadata": {
            "tags": null
          },
          "name": "stderr",
          "output_type": "stream",
          "text": [
            "100%|██████████| 34/34 [00:09<00:00,  3.72it/s]\n"
          ]
        },
        {
          "metadata": {
            "tags": null
          },
          "name": "stdout",
          "output_type": "stream",
          "text": [
            "[101/200][33/34]\tLoss_D: 1.1888\tLoss_G: 1.2449\tD(x): 0.6071\tD(G(z)): 0.4856 / 0.3035 FID: 2.4319276809692383 InceptionScore: 2.731309175491333\n",
            "Epoch 102\n"
          ]
        },
        {
          "metadata": {
            "tags": null
          },
          "name": "stderr",
          "output_type": "stream",
          "text": [
            "100%|██████████| 34/34 [00:09<00:00,  3.72it/s]\n"
          ]
        },
        {
          "metadata": {
            "tags": null
          },
          "name": "stdout",
          "output_type": "stream",
          "text": [
            "[102/200][33/34]\tLoss_D: 1.1353\tLoss_G: 0.9664\tD(x): 0.6960\tD(G(z)): 0.5134 / 0.4015 FID: 2.4022130966186523 InceptionScore: 2.7315452098846436\n",
            "Epoch 103\n"
          ]
        },
        {
          "metadata": {
            "tags": null
          },
          "name": "stderr",
          "output_type": "stream",
          "text": [
            "100%|██████████| 34/34 [00:09<00:00,  3.72it/s]\n"
          ]
        },
        {
          "metadata": {
            "tags": null
          },
          "name": "stdout",
          "output_type": "stream",
          "text": [
            "[103/200][33/34]\tLoss_D: 1.3060\tLoss_G: 1.0808\tD(x): 0.4572\tD(G(z)): 0.3846 / 0.3616 FID: 2.377227783203125 InceptionScore: 2.7301204204559326\n",
            "Epoch 104\n"
          ]
        },
        {
          "metadata": {
            "tags": null
          },
          "name": "stderr",
          "output_type": "stream",
          "text": [
            "100%|██████████| 34/34 [00:09<00:00,  3.73it/s]\n"
          ]
        },
        {
          "metadata": {
            "tags": null
          },
          "name": "stdout",
          "output_type": "stream",
          "text": [
            "[104/200][33/34]\tLoss_D: 1.2871\tLoss_G: 0.8874\tD(x): 0.6045\tD(G(z)): 0.5197 / 0.4276 FID: 2.3525187969207764 InceptionScore: 2.7312753200531006\n",
            "Epoch 105\n"
          ]
        },
        {
          "metadata": {
            "tags": null
          },
          "name": "stderr",
          "output_type": "stream",
          "text": [
            "100%|██████████| 34/34 [00:09<00:00,  3.65it/s]\n"
          ]
        },
        {
          "metadata": {
            "tags": null
          },
          "name": "stdout",
          "output_type": "stream",
          "text": [
            "[105/200][33/34]\tLoss_D: 1.5319\tLoss_G: 0.9040\tD(x): 0.4000\tD(G(z)): 0.4386 / 0.4418 FID: 2.3297510147094727 InceptionScore: 2.731832504272461\n",
            "Epoch 106\n"
          ]
        },
        {
          "metadata": {
            "tags": null
          },
          "name": "stderr",
          "output_type": "stream",
          "text": [
            "100%|██████████| 34/34 [00:09<00:00,  3.70it/s]\n"
          ]
        },
        {
          "metadata": {
            "tags": null
          },
          "name": "stdout",
          "output_type": "stream",
          "text": [
            "[106/200][33/34]\tLoss_D: 1.3968\tLoss_G: 0.8683\tD(x): 0.4854\tD(G(z)): 0.4673 / 0.4338 FID: 2.3107051849365234 InceptionScore: 2.732272148132324\n",
            "Epoch 107\n"
          ]
        },
        {
          "metadata": {
            "tags": null
          },
          "name": "stderr",
          "output_type": "stream",
          "text": [
            "100%|██████████| 34/34 [00:09<00:00,  3.69it/s]\n"
          ]
        },
        {
          "metadata": {
            "tags": null
          },
          "name": "stdout",
          "output_type": "stream",
          "text": [
            "[107/200][33/34]\tLoss_D: 1.2521\tLoss_G: 1.1990\tD(x): 0.6103\tD(G(z)): 0.5025 / 0.3178 FID: 2.287397861480713 InceptionScore: 2.7338454723358154\n",
            "Epoch 108\n"
          ]
        },
        {
          "metadata": {
            "tags": null
          },
          "name": "stderr",
          "output_type": "stream",
          "text": [
            "100%|██████████| 34/34 [00:09<00:00,  3.69it/s]\n"
          ]
        },
        {
          "metadata": {
            "tags": null
          },
          "name": "stdout",
          "output_type": "stream",
          "text": [
            "[108/200][33/34]\tLoss_D: 1.6714\tLoss_G: 2.1669\tD(x): 0.4591\tD(G(z)): 0.5227 / 0.2302 FID: 2.265439510345459 InceptionScore: 2.7349472045898438\n",
            "Epoch 109\n"
          ]
        },
        {
          "metadata": {
            "tags": null
          },
          "name": "stderr",
          "output_type": "stream",
          "text": [
            "100%|██████████| 34/34 [00:09<00:00,  3.71it/s]\n"
          ]
        },
        {
          "metadata": {
            "tags": null
          },
          "name": "stdout",
          "output_type": "stream",
          "text": [
            "[109/200][33/34]\tLoss_D: 1.6513\tLoss_G: 1.4343\tD(x): 0.3676\tD(G(z)): 0.4165 / 0.2481 FID: 2.2439146041870117 InceptionScore: 2.735635757446289\n",
            "Epoch 110\n"
          ]
        },
        {
          "metadata": {
            "tags": null
          },
          "name": "stderr",
          "output_type": "stream",
          "text": [
            "100%|██████████| 34/34 [00:09<00:00,  3.69it/s]\n"
          ]
        },
        {
          "metadata": {
            "tags": null
          },
          "name": "stdout",
          "output_type": "stream",
          "text": [
            "[110/200][33/34]\tLoss_D: 0.7494\tLoss_G: 1.3928\tD(x): 0.8331\tD(G(z)): 0.4222 / 0.2594 FID: 2.2265639305114746 InceptionScore: 2.7347710132598877\n",
            "Epoch 111\n"
          ]
        },
        {
          "metadata": {
            "tags": null
          },
          "name": "stderr",
          "output_type": "stream",
          "text": [
            "100%|██████████| 34/34 [00:09<00:00,  3.63it/s]\n"
          ]
        },
        {
          "metadata": {
            "tags": null
          },
          "name": "stdout",
          "output_type": "stream",
          "text": [
            "[111/200][33/34]\tLoss_D: 1.2333\tLoss_G: 0.6840\tD(x): 0.4352\tD(G(z)): 0.2966 / 0.5067 FID: 2.2069201469421387 InceptionScore: 2.7362515926361084\n",
            "Epoch 112\n"
          ]
        },
        {
          "metadata": {
            "tags": null
          },
          "name": "stderr",
          "output_type": "stream",
          "text": [
            "100%|██████████| 34/34 [00:09<00:00,  3.69it/s]\n"
          ]
        },
        {
          "metadata": {
            "tags": null
          },
          "name": "stdout",
          "output_type": "stream",
          "text": [
            "[112/200][33/34]\tLoss_D: 1.4532\tLoss_G: 0.8706\tD(x): 0.4757\tD(G(z)): 0.4323 / 0.4418 FID: 2.186715841293335 InceptionScore: 2.7369396686553955\n",
            "Epoch 113\n"
          ]
        },
        {
          "metadata": {
            "tags": null
          },
          "name": "stderr",
          "output_type": "stream",
          "text": [
            "100%|██████████| 34/34 [00:09<00:00,  3.68it/s]\n"
          ]
        },
        {
          "metadata": {
            "tags": null
          },
          "name": "stdout",
          "output_type": "stream",
          "text": [
            "[113/200][33/34]\tLoss_D: 1.4887\tLoss_G: 0.8444\tD(x): 0.4169\tD(G(z)): 0.3827 / 0.4400 FID: 2.1626408100128174 InceptionScore: 2.7386691570281982\n",
            "Epoch 114\n"
          ]
        },
        {
          "metadata": {
            "tags": null
          },
          "name": "stderr",
          "output_type": "stream",
          "text": [
            "100%|██████████| 34/34 [00:09<00:00,  3.68it/s]\n"
          ]
        },
        {
          "metadata": {
            "tags": null
          },
          "name": "stdout",
          "output_type": "stream",
          "text": [
            "[114/200][33/34]\tLoss_D: 1.5915\tLoss_G: 1.2052\tD(x): 0.4436\tD(G(z)): 0.5034 / 0.3102 FID: 2.1455466747283936 InceptionScore: 2.7390244007110596\n",
            "Epoch 115\n"
          ]
        },
        {
          "metadata": {
            "tags": null
          },
          "name": "stderr",
          "output_type": "stream",
          "text": [
            "100%|██████████| 34/34 [00:09<00:00,  3.67it/s]\n"
          ]
        },
        {
          "metadata": {
            "tags": null
          },
          "name": "stdout",
          "output_type": "stream",
          "text": [
            "[115/200][33/34]\tLoss_D: 2.5176\tLoss_G: 2.7447\tD(x): 0.4023\tD(G(z)): 0.7749 / 0.0750 FID: 2.129218816757202 InceptionScore: 2.739765167236328\n",
            "Epoch 116\n"
          ]
        },
        {
          "metadata": {
            "tags": null
          },
          "name": "stderr",
          "output_type": "stream",
          "text": [
            "100%|██████████| 34/34 [00:09<00:00,  3.66it/s]\n"
          ]
        },
        {
          "metadata": {
            "tags": null
          },
          "name": "stdout",
          "output_type": "stream",
          "text": [
            "[116/200][33/34]\tLoss_D: 1.3917\tLoss_G: 1.4398\tD(x): 0.5396\tD(G(z)): 0.5103 / 0.2662 FID: 2.110949754714966 InceptionScore: 2.741391181945801\n",
            "Epoch 117\n"
          ]
        },
        {
          "metadata": {
            "tags": null
          },
          "name": "stderr",
          "output_type": "stream",
          "text": [
            "100%|██████████| 34/34 [00:09<00:00,  3.67it/s]\n"
          ]
        },
        {
          "metadata": {
            "tags": null
          },
          "name": "stdout",
          "output_type": "stream",
          "text": [
            "[117/200][33/34]\tLoss_D: 1.2584\tLoss_G: 0.9056\tD(x): 0.4285\tD(G(z)): 0.3146 / 0.4227 FID: 2.0937933921813965 InceptionScore: 2.7405622005462646\n",
            "Epoch 118\n"
          ]
        },
        {
          "metadata": {
            "tags": null
          },
          "name": "stderr",
          "output_type": "stream",
          "text": [
            "100%|██████████| 34/34 [00:09<00:00,  3.60it/s]\n"
          ]
        },
        {
          "metadata": {
            "tags": null
          },
          "name": "stdout",
          "output_type": "stream",
          "text": [
            "[118/200][33/34]\tLoss_D: 1.4531\tLoss_G: 0.6884\tD(x): 0.3765\tD(G(z)): 0.3459 / 0.5024 FID: 2.0732920169830322 InceptionScore: 2.7401626110076904\n",
            "Epoch 119\n"
          ]
        },
        {
          "metadata": {
            "tags": null
          },
          "name": "stderr",
          "output_type": "stream",
          "text": [
            "100%|██████████| 34/34 [00:09<00:00,  3.65it/s]\n"
          ]
        },
        {
          "metadata": {
            "tags": null
          },
          "name": "stdout",
          "output_type": "stream",
          "text": [
            "[119/200][33/34]\tLoss_D: 1.2735\tLoss_G: 1.5279\tD(x): 0.5493\tD(G(z)): 0.4889 / 0.2250 FID: 2.0506293773651123 InceptionScore: 2.7413182258605957\n",
            "Epoch 120\n"
          ]
        },
        {
          "metadata": {
            "tags": null
          },
          "name": "stderr",
          "output_type": "stream",
          "text": [
            "100%|██████████| 34/34 [00:09<00:00,  3.61it/s]\n"
          ]
        },
        {
          "metadata": {
            "tags": null
          },
          "name": "stdout",
          "output_type": "stream",
          "text": [
            "[120/200][33/34]\tLoss_D: 1.3607\tLoss_G: 0.8900\tD(x): 0.4385\tD(G(z)): 0.3680 / 0.4126 FID: 2.030318260192871 InceptionScore: 2.7430920600891113\n",
            "Epoch 121\n"
          ]
        },
        {
          "metadata": {
            "tags": null
          },
          "name": "stderr",
          "output_type": "stream",
          "text": [
            "100%|██████████| 34/34 [00:09<00:00,  3.63it/s]\n"
          ]
        },
        {
          "metadata": {
            "tags": null
          },
          "name": "stdout",
          "output_type": "stream",
          "text": [
            "[121/200][33/34]\tLoss_D: 1.3104\tLoss_G: 1.3610\tD(x): 0.4957\tD(G(z)): 0.4455 / 0.2652 FID: 2.0111441612243652 InceptionScore: 2.7446072101593018\n",
            "Epoch 122\n"
          ]
        },
        {
          "metadata": {
            "tags": null
          },
          "name": "stderr",
          "output_type": "stream",
          "text": [
            "100%|██████████| 34/34 [00:09<00:00,  3.63it/s]\n"
          ]
        },
        {
          "metadata": {
            "tags": null
          },
          "name": "stdout",
          "output_type": "stream",
          "text": [
            "[122/200][33/34]\tLoss_D: 1.7109\tLoss_G: 1.1850\tD(x): 0.4163\tD(G(z)): 0.4930 / 0.3173 FID: 1.9982284307479858 InceptionScore: 2.745955228805542\n",
            "Epoch 123\n"
          ]
        },
        {
          "metadata": {
            "tags": null
          },
          "name": "stderr",
          "output_type": "stream",
          "text": [
            "100%|██████████| 34/34 [00:09<00:00,  3.61it/s]\n"
          ]
        },
        {
          "metadata": {
            "tags": null
          },
          "name": "stdout",
          "output_type": "stream",
          "text": [
            "[123/200][33/34]\tLoss_D: 1.4553\tLoss_G: 1.4607\tD(x): 0.3671\tD(G(z)): 0.3252 / 0.2438 FID: 1.9806288480758667 InceptionScore: 2.747093915939331\n",
            "Epoch 124\n"
          ]
        },
        {
          "metadata": {
            "tags": null
          },
          "name": "stderr",
          "output_type": "stream",
          "text": [
            "100%|██████████| 34/34 [00:09<00:00,  3.57it/s]\n"
          ]
        },
        {
          "metadata": {
            "tags": null
          },
          "name": "stdout",
          "output_type": "stream",
          "text": [
            "[124/200][33/34]\tLoss_D: 1.6534\tLoss_G: 1.3003\tD(x): 0.3644\tD(G(z)): 0.4578 / 0.2807 FID: 1.9657444953918457 InceptionScore: 2.7482070922851562\n",
            "Epoch 125\n"
          ]
        },
        {
          "metadata": {
            "tags": null
          },
          "name": "stderr",
          "output_type": "stream",
          "text": [
            "100%|██████████| 34/34 [00:09<00:00,  3.63it/s]\n"
          ]
        },
        {
          "metadata": {
            "tags": null
          },
          "name": "stdout",
          "output_type": "stream",
          "text": [
            "[125/200][33/34]\tLoss_D: 1.6691\tLoss_G: 0.7436\tD(x): 0.4341\tD(G(z)): 0.5253 / 0.4870 FID: 1.9480112791061401 InceptionScore: 2.75019907951355\n",
            "Epoch 126\n"
          ]
        },
        {
          "metadata": {
            "tags": null
          },
          "name": "stderr",
          "output_type": "stream",
          "text": [
            "100%|██████████| 34/34 [00:09<00:00,  3.69it/s]\n"
          ]
        },
        {
          "metadata": {
            "tags": null
          },
          "name": "stdout",
          "output_type": "stream",
          "text": [
            "[126/200][33/34]\tLoss_D: 1.5883\tLoss_G: 0.6551\tD(x): 0.3842\tD(G(z)): 0.4356 / 0.5279 FID: 1.930699348449707 InceptionScore: 2.749882221221924\n",
            "Epoch 127\n"
          ]
        },
        {
          "metadata": {
            "tags": null
          },
          "name": "stderr",
          "output_type": "stream",
          "text": [
            "100%|██████████| 34/34 [00:09<00:00,  3.70it/s]\n"
          ]
        },
        {
          "metadata": {
            "tags": null
          },
          "name": "stdout",
          "output_type": "stream",
          "text": [
            "[127/200][33/34]\tLoss_D: 1.1940\tLoss_G: 1.2622\tD(x): 0.5304\tD(G(z)): 0.3941 / 0.2873 FID: 1.917317509651184 InceptionScore: 2.7514431476593018\n",
            "Epoch 128\n"
          ]
        },
        {
          "metadata": {
            "tags": null
          },
          "name": "stderr",
          "output_type": "stream",
          "text": [
            "100%|██████████| 34/34 [00:09<00:00,  3.72it/s]\n"
          ]
        },
        {
          "metadata": {
            "tags": null
          },
          "name": "stdout",
          "output_type": "stream",
          "text": [
            "[128/200][33/34]\tLoss_D: 2.2061\tLoss_G: 2.0025\tD(x): 0.4196\tD(G(z)): 0.7198 / 0.1827 FID: 1.9008383750915527 InceptionScore: 2.7524211406707764\n",
            "Epoch 129\n"
          ]
        },
        {
          "metadata": {
            "tags": null
          },
          "name": "stderr",
          "output_type": "stream",
          "text": [
            "100%|██████████| 34/34 [00:09<00:00,  3.63it/s]\n"
          ]
        },
        {
          "metadata": {
            "tags": null
          },
          "name": "stdout",
          "output_type": "stream",
          "text": [
            "[129/200][33/34]\tLoss_D: 1.6486\tLoss_G: 0.9220\tD(x): 0.3953\tD(G(z)): 0.4949 / 0.4085 FID: 1.884352445602417 InceptionScore: 2.7541513442993164\n",
            "Epoch 130\n"
          ]
        },
        {
          "metadata": {
            "tags": null
          },
          "name": "stderr",
          "output_type": "stream",
          "text": [
            "100%|██████████| 34/34 [00:09<00:00,  3.70it/s]\n"
          ]
        },
        {
          "metadata": {
            "tags": null
          },
          "name": "stdout",
          "output_type": "stream",
          "text": [
            "[130/200][33/34]\tLoss_D: 1.5184\tLoss_G: 1.7767\tD(x): 0.4369\tD(G(z)): 0.4804 / 0.1968 FID: 1.8703745603561401 InceptionScore: 2.7562811374664307\n",
            "Epoch 131\n"
          ]
        },
        {
          "metadata": {
            "tags": null
          },
          "name": "stderr",
          "output_type": "stream",
          "text": [
            "100%|██████████| 34/34 [00:09<00:00,  3.68it/s]\n"
          ]
        },
        {
          "metadata": {
            "tags": null
          },
          "name": "stdout",
          "output_type": "stream",
          "text": [
            "[131/200][33/34]\tLoss_D: 1.5582\tLoss_G: 0.7722\tD(x): 0.3946\tD(G(z)): 0.4572 / 0.4715 FID: 1.8546688556671143 InceptionScore: 2.7580862045288086\n",
            "Epoch 132\n"
          ]
        },
        {
          "metadata": {
            "tags": null
          },
          "name": "stderr",
          "output_type": "stream",
          "text": [
            "100%|██████████| 34/34 [00:09<00:00,  3.69it/s]\n"
          ]
        },
        {
          "metadata": {
            "tags": null
          },
          "name": "stdout",
          "output_type": "stream",
          "text": [
            "[132/200][33/34]\tLoss_D: 1.1616\tLoss_G: 1.0406\tD(x): 0.5988\tD(G(z)): 0.4711 / 0.3655 FID: 1.8399088382720947 InceptionScore: 2.7601099014282227\n",
            "Epoch 133\n"
          ]
        },
        {
          "metadata": {
            "tags": null
          },
          "name": "stderr",
          "output_type": "stream",
          "text": [
            "100%|██████████| 34/34 [00:09<00:00,  3.69it/s]\n"
          ]
        },
        {
          "metadata": {
            "tags": null
          },
          "name": "stdout",
          "output_type": "stream",
          "text": [
            "[133/200][33/34]\tLoss_D: 1.3301\tLoss_G: 1.3533\tD(x): 0.5409\tD(G(z)): 0.4724 / 0.2757 FID: 1.8264918327331543 InceptionScore: 2.7608375549316406\n",
            "Epoch 134\n"
          ]
        },
        {
          "metadata": {
            "tags": null
          },
          "name": "stderr",
          "output_type": "stream",
          "text": [
            "100%|██████████| 34/34 [00:09<00:00,  3.61it/s]\n"
          ]
        },
        {
          "metadata": {
            "tags": null
          },
          "name": "stdout",
          "output_type": "stream",
          "text": [
            "[134/200][33/34]\tLoss_D: 1.2667\tLoss_G: 1.2842\tD(x): 0.6279\tD(G(z)): 0.5052 / 0.2866 FID: 1.8102556467056274 InceptionScore: 2.7616727352142334\n",
            "Epoch 135\n"
          ]
        },
        {
          "metadata": {
            "tags": null
          },
          "name": "stderr",
          "output_type": "stream",
          "text": [
            "100%|██████████| 34/34 [00:09<00:00,  3.68it/s]\n"
          ]
        },
        {
          "metadata": {
            "tags": null
          },
          "name": "stdout",
          "output_type": "stream",
          "text": [
            "[135/200][33/34]\tLoss_D: 1.1221\tLoss_G: 1.1896\tD(x): 0.5400\tD(G(z)): 0.3849 / 0.3125 FID: 1.795888066291809 InceptionScore: 2.76252818107605\n",
            "Epoch 136\n"
          ]
        },
        {
          "metadata": {
            "tags": null
          },
          "name": "stderr",
          "output_type": "stream",
          "text": [
            "100%|██████████| 34/34 [00:09<00:00,  3.68it/s]\n"
          ]
        },
        {
          "metadata": {
            "tags": null
          },
          "name": "stdout",
          "output_type": "stream",
          "text": [
            "[136/200][33/34]\tLoss_D: 1.1970\tLoss_G: 1.4719\tD(x): 0.5071\tD(G(z)): 0.3838 / 0.2714 FID: 1.7806341648101807 InceptionScore: 2.762838840484619\n",
            "Epoch 137\n"
          ]
        },
        {
          "metadata": {
            "tags": null
          },
          "name": "stderr",
          "output_type": "stream",
          "text": [
            "100%|██████████| 34/34 [00:09<00:00,  3.67it/s]\n"
          ]
        },
        {
          "metadata": {
            "tags": null
          },
          "name": "stdout",
          "output_type": "stream",
          "text": [
            "[137/200][33/34]\tLoss_D: 1.3690\tLoss_G: 1.8677\tD(x): 0.4688\tD(G(z)): 0.4382 / 0.1627 FID: 1.7660236358642578 InceptionScore: 2.764569044113159\n",
            "Epoch 138\n"
          ]
        },
        {
          "metadata": {
            "tags": null
          },
          "name": "stderr",
          "output_type": "stream",
          "text": [
            "100%|██████████| 34/34 [00:09<00:00,  3.68it/s]\n"
          ]
        },
        {
          "metadata": {
            "tags": null
          },
          "name": "stdout",
          "output_type": "stream",
          "text": [
            "[138/200][33/34]\tLoss_D: 1.3719\tLoss_G: 2.1065\tD(x): 0.5806\tD(G(z)): 0.5105 / 0.1279 FID: 1.7525261640548706 InceptionScore: 2.7646796703338623\n",
            "Epoch 139\n"
          ]
        },
        {
          "metadata": {
            "tags": null
          },
          "name": "stderr",
          "output_type": "stream",
          "text": [
            "100%|██████████| 34/34 [00:09<00:00,  3.60it/s]\n"
          ]
        },
        {
          "metadata": {
            "tags": null
          },
          "name": "stdout",
          "output_type": "stream",
          "text": [
            "[139/200][33/34]\tLoss_D: 1.2272\tLoss_G: 1.1812\tD(x): 0.6009\tD(G(z)): 0.4963 / 0.3327 FID: 1.7380856275558472 InceptionScore: 2.765575408935547\n",
            "Epoch 140\n"
          ]
        },
        {
          "metadata": {
            "tags": null
          },
          "name": "stderr",
          "output_type": "stream",
          "text": [
            "100%|██████████| 34/34 [00:09<00:00,  3.64it/s]\n"
          ]
        },
        {
          "metadata": {
            "tags": null
          },
          "name": "stdout",
          "output_type": "stream",
          "text": [
            "[140/200][33/34]\tLoss_D: 1.4173\tLoss_G: 2.0241\tD(x): 0.4900\tD(G(z)): 0.4865 / 0.1810 FID: 1.723055362701416 InceptionScore: 2.7663064002990723\n",
            "Epoch 141\n"
          ]
        },
        {
          "metadata": {
            "tags": null
          },
          "name": "stderr",
          "output_type": "stream",
          "text": [
            "100%|██████████| 34/34 [00:09<00:00,  3.63it/s]\n"
          ]
        },
        {
          "metadata": {
            "tags": null
          },
          "name": "stdout",
          "output_type": "stream",
          "text": [
            "[141/200][33/34]\tLoss_D: 1.6253\tLoss_G: 1.2979\tD(x): 0.3934\tD(G(z)): 0.4553 / 0.2996 FID: 1.7095890045166016 InceptionScore: 2.7672977447509766\n",
            "Epoch 142\n"
          ]
        },
        {
          "metadata": {
            "tags": null
          },
          "name": "stderr",
          "output_type": "stream",
          "text": [
            "100%|██████████| 34/34 [00:09<00:00,  3.64it/s]\n"
          ]
        },
        {
          "metadata": {
            "tags": null
          },
          "name": "stdout",
          "output_type": "stream",
          "text": [
            "[142/200][33/34]\tLoss_D: 1.3162\tLoss_G: 1.7196\tD(x): 0.4925\tD(G(z)): 0.4460 / 0.1982 FID: 1.6944739818572998 InceptionScore: 2.768170118331909\n",
            "Epoch 143\n"
          ]
        },
        {
          "metadata": {
            "tags": null
          },
          "name": "stderr",
          "output_type": "stream",
          "text": [
            "100%|██████████| 34/34 [00:09<00:00,  3.58it/s]\n"
          ]
        },
        {
          "metadata": {
            "tags": null
          },
          "name": "stdout",
          "output_type": "stream",
          "text": [
            "[143/200][33/34]\tLoss_D: 1.8418\tLoss_G: 0.9437\tD(x): 0.3186\tD(G(z)): 0.4955 / 0.4232 FID: 1.6818054914474487 InceptionScore: 2.767516851425171\n",
            "Epoch 144\n"
          ]
        },
        {
          "metadata": {
            "tags": null
          },
          "name": "stderr",
          "output_type": "stream",
          "text": [
            "100%|██████████| 34/34 [00:09<00:00,  3.63it/s]\n"
          ]
        },
        {
          "metadata": {
            "tags": null
          },
          "name": "stdout",
          "output_type": "stream",
          "text": [
            "[144/200][33/34]\tLoss_D: 1.6277\tLoss_G: 1.0493\tD(x): 0.4214\tD(G(z)): 0.4947 / 0.3666 FID: 1.6691946983337402 InceptionScore: 2.7687251567840576\n",
            "Epoch 145\n"
          ]
        },
        {
          "metadata": {
            "tags": null
          },
          "name": "stderr",
          "output_type": "stream",
          "text": [
            "100%|██████████| 34/34 [00:09<00:00,  3.64it/s]\n"
          ]
        },
        {
          "metadata": {
            "tags": null
          },
          "name": "stdout",
          "output_type": "stream",
          "text": [
            "[145/200][33/34]\tLoss_D: 1.7671\tLoss_G: 2.0518\tD(x): 0.4510\tD(G(z)): 0.5992 / 0.1316 FID: 1.6559338569641113 InceptionScore: 2.768463134765625\n",
            "Epoch 146\n"
          ]
        },
        {
          "metadata": {
            "tags": null
          },
          "name": "stderr",
          "output_type": "stream",
          "text": [
            "100%|██████████| 34/34 [00:09<00:00,  3.57it/s]\n"
          ]
        },
        {
          "metadata": {
            "tags": null
          },
          "name": "stdout",
          "output_type": "stream",
          "text": [
            "[146/200][33/34]\tLoss_D: 1.0321\tLoss_G: 0.8393\tD(x): 0.5911\tD(G(z)): 0.3852 / 0.4340 FID: 1.6425200700759888 InceptionScore: 2.768777847290039\n",
            "Epoch 147\n"
          ]
        },
        {
          "metadata": {
            "tags": null
          },
          "name": "stderr",
          "output_type": "stream",
          "text": [
            "100%|██████████| 34/34 [00:09<00:00,  3.61it/s]\n"
          ]
        },
        {
          "metadata": {
            "tags": null
          },
          "name": "stdout",
          "output_type": "stream",
          "text": [
            "[147/200][33/34]\tLoss_D: 1.2239\tLoss_G: 1.1823\tD(x): 0.4614\tD(G(z)): 0.3370 / 0.3462 FID: 1.6318860054016113 InceptionScore: 2.7693095207214355\n",
            "Epoch 148\n"
          ]
        },
        {
          "metadata": {
            "tags": null
          },
          "name": "stderr",
          "output_type": "stream",
          "text": [
            "100%|██████████| 34/34 [00:09<00:00,  3.59it/s]\n"
          ]
        },
        {
          "metadata": {
            "tags": null
          },
          "name": "stdout",
          "output_type": "stream",
          "text": [
            "[148/200][33/34]\tLoss_D: 1.4163\tLoss_G: 1.0220\tD(x): 0.3973\tD(G(z)): 0.2671 / 0.3788 FID: 1.6211251020431519 InceptionScore: 2.7701783180236816\n",
            "Epoch 149\n"
          ]
        },
        {
          "metadata": {
            "tags": null
          },
          "name": "stderr",
          "output_type": "stream",
          "text": [
            "100%|██████████| 34/34 [00:09<00:00,  3.55it/s]\n"
          ]
        },
        {
          "metadata": {
            "tags": null
          },
          "name": "stdout",
          "output_type": "stream",
          "text": [
            "[149/200][33/34]\tLoss_D: 1.3724\tLoss_G: 1.0561\tD(x): 0.5110\tD(G(z)): 0.4664 / 0.3768 FID: 1.6087000370025635 InceptionScore: 2.7715001106262207\n",
            "Epoch 150\n"
          ]
        },
        {
          "metadata": {
            "tags": null
          },
          "name": "stderr",
          "output_type": "stream",
          "text": [
            "100%|██████████| 34/34 [00:09<00:00,  3.60it/s]\n"
          ]
        },
        {
          "metadata": {
            "tags": null
          },
          "name": "stdout",
          "output_type": "stream",
          "text": [
            "[150/200][33/34]\tLoss_D: 1.0910\tLoss_G: 3.3176\tD(x): 0.7498\tD(G(z)): 0.5325 / 0.0608 FID: 1.596195101737976 InceptionScore: 2.772235631942749\n",
            "Epoch 151\n"
          ]
        },
        {
          "metadata": {
            "tags": null
          },
          "name": "stderr",
          "output_type": "stream",
          "text": [
            "100%|██████████| 34/34 [00:09<00:00,  3.60it/s]\n"
          ]
        },
        {
          "metadata": {
            "tags": null
          },
          "name": "stdout",
          "output_type": "stream",
          "text": [
            "[151/200][33/34]\tLoss_D: 1.4926\tLoss_G: 0.9520\tD(x): 0.4049\tD(G(z)): 0.3932 / 0.4690 FID: 1.5836055278778076 InceptionScore: 2.7728443145751953\n",
            "Epoch 152\n"
          ]
        },
        {
          "output_type": "stream",
          "name": "stderr",
          "text": [
            "100%|██████████| 34/34 [00:09<00:00,  3.51it/s]\n"
          ]
        },
        {
          "output_type": "stream",
          "name": "stdout",
          "text": [
            "[152/200][33/34]\tLoss_D: 1.2306\tLoss_G: 1.1492\tD(x): 0.5055\tD(G(z)): 0.4143 / 0.3439 FID: 1.571891188621521 InceptionScore: 2.772214889526367\n",
            "Epoch 153\n"
          ]
        },
        {
          "output_type": "stream",
          "name": "stderr",
          "text": [
            "100%|██████████| 34/34 [00:09<00:00,  3.58it/s]\n"
          ]
        },
        {
          "output_type": "stream",
          "name": "stdout",
          "text": [
            "[153/200][33/34]\tLoss_D: 1.3316\tLoss_G: 1.9222\tD(x): 0.5963\tD(G(z)): 0.5207 / 0.1483 FID: 1.5604246854782104 InceptionScore: 2.7735207080841064\n",
            "Epoch 154\n"
          ]
        },
        {
          "output_type": "stream",
          "name": "stderr",
          "text": [
            "100%|██████████| 34/34 [00:09<00:00,  3.56it/s]\n"
          ]
        },
        {
          "output_type": "stream",
          "name": "stdout",
          "text": [
            "[154/200][33/34]\tLoss_D: 1.4513\tLoss_G: 0.7588\tD(x): 0.3619\tD(G(z)): 0.3071 / 0.4789 FID: 1.5488566160202026 InceptionScore: 2.773846387863159\n",
            "Epoch 155\n"
          ]
        },
        {
          "output_type": "stream",
          "name": "stderr",
          "text": [
            "100%|██████████| 34/34 [00:09<00:00,  3.49it/s]\n"
          ]
        },
        {
          "output_type": "stream",
          "name": "stdout",
          "text": [
            "[155/200][33/34]\tLoss_D: 1.7529\tLoss_G: 1.7473\tD(x): 0.3990\tD(G(z)): 0.5301 / 0.1953 FID: 1.5375192165374756 InceptionScore: 2.773883581161499\n",
            "Epoch 156\n"
          ]
        },
        {
          "output_type": "stream",
          "name": "stderr",
          "text": [
            "100%|██████████| 34/34 [00:09<00:00,  3.56it/s]\n"
          ]
        },
        {
          "output_type": "stream",
          "name": "stdout",
          "text": [
            "[156/200][33/34]\tLoss_D: 2.0223\tLoss_G: 1.0333\tD(x): 0.2941\tD(G(z)): 0.5091 / 0.3798 FID: 1.5245012044906616 InceptionScore: 2.774883508682251\n",
            "Epoch 157\n"
          ]
        },
        {
          "output_type": "stream",
          "name": "stderr",
          "text": [
            "100%|██████████| 34/34 [00:09<00:00,  3.57it/s]\n"
          ]
        },
        {
          "output_type": "stream",
          "name": "stdout",
          "text": [
            "[157/200][33/34]\tLoss_D: 0.9955\tLoss_G: 1.1245\tD(x): 0.6064\tD(G(z)): 0.3697 / 0.3460 FID: 1.5128810405731201 InceptionScore: 2.775501251220703\n",
            "Epoch 158\n"
          ]
        },
        {
          "output_type": "stream",
          "name": "stderr",
          "text": [
            "100%|██████████| 34/34 [00:09<00:00,  3.50it/s]\n"
          ]
        },
        {
          "output_type": "stream",
          "name": "stdout",
          "text": [
            "[158/200][33/34]\tLoss_D: 1.4394\tLoss_G: 1.8248\tD(x): 0.5938\tD(G(z)): 0.5677 / 0.1943 FID: 1.5021841526031494 InceptionScore: 2.775120496749878\n",
            "Epoch 159\n"
          ]
        },
        {
          "output_type": "stream",
          "name": "stderr",
          "text": [
            "100%|██████████| 34/34 [00:09<00:00,  3.57it/s]\n"
          ]
        },
        {
          "output_type": "stream",
          "name": "stdout",
          "text": [
            "[159/200][33/34]\tLoss_D: 1.2197\tLoss_G: 1.7403\tD(x): 0.5932\tD(G(z)): 0.4476 / 0.1835 FID: 1.4922943115234375 InceptionScore: 2.7747771739959717\n",
            "Epoch 160\n"
          ]
        },
        {
          "output_type": "stream",
          "name": "stderr",
          "text": [
            "100%|██████████| 34/34 [00:09<00:00,  3.56it/s]\n"
          ]
        },
        {
          "output_type": "stream",
          "name": "stdout",
          "text": [
            "[160/200][33/34]\tLoss_D: 1.4491\tLoss_G: 1.7716\tD(x): 0.5344\tD(G(z)): 0.5076 / 0.2009 FID: 1.4804885387420654 InceptionScore: 2.7745866775512695\n",
            "Epoch 161\n"
          ]
        },
        {
          "output_type": "stream",
          "name": "stderr",
          "text": [
            "100%|██████████| 34/34 [00:09<00:00,  3.48it/s]\n"
          ]
        },
        {
          "output_type": "stream",
          "name": "stdout",
          "text": [
            "[161/200][33/34]\tLoss_D: 1.7558\tLoss_G: 1.1646\tD(x): 0.3458\tD(G(z)): 0.4562 / 0.3481 FID: 1.4695695638656616 InceptionScore: 2.7752676010131836\n",
            "Epoch 162\n"
          ]
        },
        {
          "output_type": "stream",
          "name": "stderr",
          "text": [
            "100%|██████████| 34/34 [00:09<00:00,  3.55it/s]\n"
          ]
        },
        {
          "output_type": "stream",
          "name": "stdout",
          "text": [
            "[162/200][33/34]\tLoss_D: 1.1845\tLoss_G: 0.8840\tD(x): 0.5739\tD(G(z)): 0.4350 / 0.4585 FID: 1.4579856395721436 InceptionScore: 2.774937868118286\n",
            "Epoch 163\n"
          ]
        },
        {
          "output_type": "stream",
          "name": "stderr",
          "text": [
            "100%|██████████| 34/34 [00:09<00:00,  3.55it/s]\n"
          ]
        },
        {
          "output_type": "stream",
          "name": "stdout",
          "text": [
            "[163/200][33/34]\tLoss_D: 1.5994\tLoss_G: 1.5849\tD(x): 0.4171\tD(G(z)): 0.4628 / 0.2337 FID: 1.4476430416107178 InceptionScore: 2.7749130725860596\n",
            "Epoch 164\n"
          ]
        },
        {
          "output_type": "stream",
          "name": "stderr",
          "text": [
            "100%|██████████| 34/34 [00:09<00:00,  3.46it/s]\n"
          ]
        },
        {
          "output_type": "stream",
          "name": "stdout",
          "text": [
            "[164/200][33/34]\tLoss_D: 1.5758\tLoss_G: 0.5979\tD(x): 0.2995\tD(G(z)): 0.2939 / 0.5646 FID: 1.4376131296157837 InceptionScore: 2.774461507797241\n",
            "Epoch 165\n"
          ]
        },
        {
          "output_type": "stream",
          "name": "stderr",
          "text": [
            "100%|██████████| 34/34 [00:09<00:00,  3.55it/s]\n"
          ]
        },
        {
          "output_type": "stream",
          "name": "stdout",
          "text": [
            "[165/200][33/34]\tLoss_D: 1.2039\tLoss_G: 1.7107\tD(x): 0.6399\tD(G(z)): 0.4860 / 0.2192 FID: 1.4267210960388184 InceptionScore: 2.774348497390747\n",
            "Epoch 166\n"
          ]
        },
        {
          "output_type": "stream",
          "name": "stderr",
          "text": [
            "100%|██████████| 34/34 [00:09<00:00,  3.54it/s]\n"
          ]
        },
        {
          "output_type": "stream",
          "name": "stdout",
          "text": [
            "[166/200][33/34]\tLoss_D: 0.8227\tLoss_G: 1.0748\tD(x): 0.6532\tD(G(z)): 0.3167 / 0.3498 FID: 1.4169119596481323 InceptionScore: 2.774366617202759\n",
            "Epoch 167\n"
          ]
        },
        {
          "output_type": "stream",
          "name": "stderr",
          "text": [
            "100%|██████████| 34/34 [00:09<00:00,  3.45it/s]\n"
          ]
        },
        {
          "output_type": "stream",
          "name": "stdout",
          "text": [
            "[167/200][33/34]\tLoss_D: 1.8740\tLoss_G: 1.4246\tD(x): 0.4029\tD(G(z)): 0.5226 / 0.2528 FID: 1.4066559076309204 InceptionScore: 2.7748544216156006\n",
            "Epoch 168\n"
          ]
        },
        {
          "output_type": "stream",
          "name": "stderr",
          "text": [
            "100%|██████████| 34/34 [00:09<00:00,  3.54it/s]\n"
          ]
        },
        {
          "output_type": "stream",
          "name": "stdout",
          "text": [
            "[168/200][33/34]\tLoss_D: 1.2710\tLoss_G: 0.9270\tD(x): 0.5890\tD(G(z)): 0.4997 / 0.4083 FID: 1.3954312801361084 InceptionScore: 2.775716781616211\n",
            "Epoch 169\n"
          ]
        },
        {
          "output_type": "stream",
          "name": "stderr",
          "text": [
            "100%|██████████| 34/34 [00:09<00:00,  3.49it/s]\n"
          ]
        },
        {
          "output_type": "stream",
          "name": "stdout",
          "text": [
            "[169/200][33/34]\tLoss_D: 0.7991\tLoss_G: 1.8594\tD(x): 0.8442\tD(G(z)): 0.4438 / 0.1703 FID: 1.3852291107177734 InceptionScore: 2.7762231826782227\n",
            "Epoch 170\n"
          ]
        },
        {
          "output_type": "stream",
          "name": "stderr",
          "text": [
            "100%|██████████| 34/34 [00:09<00:00,  3.56it/s]\n"
          ]
        },
        {
          "output_type": "stream",
          "name": "stdout",
          "text": [
            "[170/200][33/34]\tLoss_D: 1.5492\tLoss_G: 1.0330\tD(x): 0.3504\tD(G(z)): 0.3834 / 0.3725 FID: 1.3747005462646484 InceptionScore: 2.7766101360321045\n",
            "Epoch 171\n"
          ]
        },
        {
          "output_type": "stream",
          "name": "stderr",
          "text": [
            "100%|██████████| 34/34 [00:09<00:00,  3.53it/s]\n"
          ]
        },
        {
          "output_type": "stream",
          "name": "stdout",
          "text": [
            "[171/200][33/34]\tLoss_D: 1.1457\tLoss_G: 1.5975\tD(x): 0.4965\tD(G(z)): 0.3137 / 0.2165 FID: 1.3640921115875244 InceptionScore: 2.777961492538452\n",
            "Epoch 172\n"
          ]
        },
        {
          "output_type": "stream",
          "name": "stderr",
          "text": [
            "100%|██████████| 34/34 [00:09<00:00,  3.46it/s]\n"
          ]
        },
        {
          "output_type": "stream",
          "name": "stdout",
          "text": [
            "[172/200][33/34]\tLoss_D: 1.2464\tLoss_G: 2.0234\tD(x): 0.5851\tD(G(z)): 0.5030 / 0.1756 FID: 1.3548113107681274 InceptionScore: 2.7789552211761475\n",
            "Epoch 173\n"
          ]
        },
        {
          "output_type": "stream",
          "name": "stderr",
          "text": [
            "100%|██████████| 34/34 [00:09<00:00,  3.51it/s]\n"
          ]
        },
        {
          "output_type": "stream",
          "name": "stdout",
          "text": [
            "[173/200][33/34]\tLoss_D: 1.2779\tLoss_G: 2.4219\tD(x): 0.5612\tD(G(z)): 0.4833 / 0.1149 FID: 1.3451886177062988 InceptionScore: 2.779951810836792\n",
            "Epoch 174\n"
          ]
        },
        {
          "output_type": "stream",
          "name": "stderr",
          "text": [
            "100%|██████████| 34/34 [00:09<00:00,  3.47it/s]\n"
          ]
        },
        {
          "output_type": "stream",
          "name": "stdout",
          "text": [
            "[174/200][33/34]\tLoss_D: 0.8619\tLoss_G: 2.1254\tD(x): 0.7881\tD(G(z)): 0.4455 / 0.1272 FID: 1.3381288051605225 InceptionScore: 2.7811105251312256\n",
            "Epoch 175\n"
          ]
        },
        {
          "output_type": "stream",
          "name": "stderr",
          "text": [
            "100%|██████████| 34/34 [00:09<00:00,  3.48it/s]\n"
          ]
        },
        {
          "output_type": "stream",
          "name": "stdout",
          "text": [
            "[175/200][33/34]\tLoss_D: 1.0731\tLoss_G: 1.5414\tD(x): 0.5591\tD(G(z)): 0.3716 / 0.2289 FID: 1.3316189050674438 InceptionScore: 2.7817726135253906\n",
            "Epoch 176\n"
          ]
        },
        {
          "output_type": "stream",
          "name": "stderr",
          "text": [
            "100%|██████████| 34/34 [00:09<00:00,  3.53it/s]\n"
          ]
        },
        {
          "output_type": "stream",
          "name": "stdout",
          "text": [
            "[176/200][33/34]\tLoss_D: 1.9764\tLoss_G: 1.7593\tD(x): 0.3655\tD(G(z)): 0.4866 / 0.2005 FID: 1.3218978643417358 InceptionScore: 2.782825231552124\n",
            "Epoch 177\n"
          ]
        },
        {
          "output_type": "stream",
          "name": "stderr",
          "text": [
            "100%|██████████| 34/34 [00:09<00:00,  3.43it/s]\n"
          ]
        },
        {
          "output_type": "stream",
          "name": "stdout",
          "text": [
            "[177/200][33/34]\tLoss_D: 1.4011\tLoss_G: 1.2312\tD(x): 0.4288\tD(G(z)): 0.4020 / 0.2992 FID: 1.31293523311615 InceptionScore: 2.783737897872925\n",
            "Epoch 178\n"
          ]
        },
        {
          "output_type": "stream",
          "name": "stderr",
          "text": [
            "100%|██████████| 34/34 [00:09<00:00,  3.49it/s]\n"
          ]
        },
        {
          "output_type": "stream",
          "name": "stdout",
          "text": [
            "[178/200][33/34]\tLoss_D: 1.2096\tLoss_G: 0.9099\tD(x): 0.4744\tD(G(z)): 0.3285 / 0.4178 FID: 1.3026843070983887 InceptionScore: 2.7850778102874756\n",
            "Epoch 179\n"
          ]
        },
        {
          "output_type": "stream",
          "name": "stderr",
          "text": [
            "100%|██████████| 34/34 [00:09<00:00,  3.44it/s]\n"
          ]
        },
        {
          "output_type": "stream",
          "name": "stdout",
          "text": [
            "[179/200][33/34]\tLoss_D: 1.2667\tLoss_G: 1.9658\tD(x): 0.5951\tD(G(z)): 0.4977 / 0.1444 FID: 1.2927643060684204 InceptionScore: 2.786633253097534\n",
            "Epoch 180\n"
          ]
        },
        {
          "output_type": "stream",
          "name": "stderr",
          "text": [
            "100%|██████████| 34/34 [00:09<00:00,  3.48it/s]\n"
          ]
        },
        {
          "output_type": "stream",
          "name": "stdout",
          "text": [
            "[180/200][33/34]\tLoss_D: 1.3412\tLoss_G: 1.2268\tD(x): 0.5449\tD(G(z)): 0.4224 / 0.3116 FID: 1.2831752300262451 InceptionScore: 2.786811351776123\n",
            "Epoch 181\n"
          ]
        },
        {
          "output_type": "stream",
          "name": "stderr",
          "text": [
            "100%|██████████| 34/34 [00:09<00:00,  3.48it/s]\n"
          ]
        },
        {
          "output_type": "stream",
          "name": "stdout",
          "text": [
            "[181/200][33/34]\tLoss_D: 1.1574\tLoss_G: 1.6992\tD(x): 0.5601\tD(G(z)): 0.4081 / 0.2006 FID: 1.2737643718719482 InceptionScore: 2.7876317501068115\n",
            "Epoch 182\n"
          ]
        },
        {
          "output_type": "stream",
          "name": "stderr",
          "text": [
            "100%|██████████| 34/34 [00:10<00:00,  3.39it/s]\n"
          ]
        },
        {
          "output_type": "stream",
          "name": "stdout",
          "text": [
            "[182/200][33/34]\tLoss_D: 0.7744\tLoss_G: 1.8120\tD(x): 0.7331\tD(G(z)): 0.3401 / 0.2062 FID: 1.265285849571228 InceptionScore: 2.787569761276245\n",
            "Epoch 183\n"
          ]
        },
        {
          "output_type": "stream",
          "name": "stderr",
          "text": [
            "100%|██████████| 34/34 [00:09<00:00,  3.48it/s]\n"
          ]
        },
        {
          "output_type": "stream",
          "name": "stdout",
          "text": [
            "[183/200][33/34]\tLoss_D: 0.8500\tLoss_G: 1.2106\tD(x): 0.6529\tD(G(z)): 0.3160 / 0.3174 FID: 1.2559247016906738 InceptionScore: 2.7889773845672607\n",
            "Epoch 184\n"
          ]
        },
        {
          "output_type": "stream",
          "name": "stderr",
          "text": [
            "100%|██████████| 34/34 [00:09<00:00,  3.41it/s]\n"
          ]
        },
        {
          "output_type": "stream",
          "name": "stdout",
          "text": [
            "[184/200][33/34]\tLoss_D: 1.3443\tLoss_G: 1.8987\tD(x): 0.5624\tD(G(z)): 0.5161 / 0.1923 FID: 1.2476052045822144 InceptionScore: 2.789091110229492\n",
            "Epoch 185\n"
          ]
        },
        {
          "output_type": "stream",
          "name": "stderr",
          "text": [
            "100%|██████████| 34/34 [00:09<00:00,  3.47it/s]\n"
          ]
        },
        {
          "output_type": "stream",
          "name": "stdout",
          "text": [
            "[185/200][33/34]\tLoss_D: 1.2055\tLoss_G: 1.4129\tD(x): 0.5566\tD(G(z)): 0.4438 / 0.3024 FID: 1.2390925884246826 InceptionScore: 2.7896597385406494\n",
            "Epoch 186\n"
          ]
        },
        {
          "output_type": "stream",
          "name": "stderr",
          "text": [
            "100%|██████████| 34/34 [00:10<00:00,  3.39it/s]\n"
          ]
        },
        {
          "output_type": "stream",
          "name": "stdout",
          "text": [
            "[186/200][33/34]\tLoss_D: 1.0292\tLoss_G: 1.3488\tD(x): 0.5581\tD(G(z)): 0.3414 / 0.2937 FID: 1.231117844581604 InceptionScore: 2.7908871173858643\n",
            "Epoch 187\n"
          ]
        },
        {
          "output_type": "stream",
          "name": "stderr",
          "text": [
            "100%|██████████| 34/34 [00:09<00:00,  3.48it/s]\n"
          ]
        },
        {
          "output_type": "stream",
          "name": "stdout",
          "text": [
            "[187/200][33/34]\tLoss_D: 1.1992\tLoss_G: 0.9898\tD(x): 0.5136\tD(G(z)): 0.3727 / 0.4072 FID: 1.2234079837799072 InceptionScore: 2.7920005321502686\n",
            "Epoch 188\n"
          ]
        },
        {
          "output_type": "stream",
          "name": "stderr",
          "text": [
            "100%|██████████| 34/34 [00:09<00:00,  3.47it/s]\n"
          ]
        },
        {
          "output_type": "stream",
          "name": "stdout",
          "text": [
            "[188/200][33/34]\tLoss_D: 1.3047\tLoss_G: 1.6596\tD(x): 0.5689\tD(G(z)): 0.4714 / 0.2108 FID: 1.215518832206726 InceptionScore: 2.793138265609741\n",
            "Epoch 189\n"
          ]
        },
        {
          "output_type": "stream",
          "name": "stderr",
          "text": [
            "100%|██████████| 34/34 [00:10<00:00,  3.39it/s]\n"
          ]
        },
        {
          "output_type": "stream",
          "name": "stdout",
          "text": [
            "[189/200][33/34]\tLoss_D: 1.3309\tLoss_G: 2.6186\tD(x): 0.7398\tD(G(z)): 0.6171 / 0.1068 FID: 1.2064802646636963 InceptionScore: 2.7937610149383545\n",
            "Epoch 190\n"
          ]
        },
        {
          "output_type": "stream",
          "name": "stderr",
          "text": [
            "100%|██████████| 34/34 [00:09<00:00,  3.45it/s]\n"
          ]
        },
        {
          "output_type": "stream",
          "name": "stdout",
          "text": [
            "[190/200][33/34]\tLoss_D: 0.6169\tLoss_G: 1.7223\tD(x): 0.8340\tD(G(z)): 0.3342 / 0.1835 FID: 1.1979093551635742 InceptionScore: 2.7945220470428467\n",
            "Epoch 191\n"
          ]
        },
        {
          "output_type": "stream",
          "name": "stderr",
          "text": [
            "100%|██████████| 34/34 [00:10<00:00,  3.37it/s]\n"
          ]
        },
        {
          "output_type": "stream",
          "name": "stdout",
          "text": [
            "[191/200][33/34]\tLoss_D: 1.3646\tLoss_G: 3.3591\tD(x): 0.5118\tD(G(z)): 0.3814 / 0.0479 FID: 1.189943552017212 InceptionScore: 2.7949130535125732\n",
            "Epoch 192\n"
          ]
        },
        {
          "output_type": "stream",
          "name": "stderr",
          "text": [
            "100%|██████████| 34/34 [00:09<00:00,  3.45it/s]\n"
          ]
        },
        {
          "output_type": "stream",
          "name": "stdout",
          "text": [
            "[192/200][33/34]\tLoss_D: 1.7857\tLoss_G: 2.3607\tD(x): 0.2908\tD(G(z)): 0.3987 / 0.1679 FID: 1.1824531555175781 InceptionScore: 2.7951302528381348\n",
            "Epoch 193\n"
          ]
        },
        {
          "output_type": "stream",
          "name": "stderr",
          "text": [
            "100%|██████████| 34/34 [00:10<00:00,  3.39it/s]\n"
          ]
        },
        {
          "output_type": "stream",
          "name": "stdout",
          "text": [
            "[193/200][33/34]\tLoss_D: 1.5124\tLoss_G: 1.5995\tD(x): 0.5945\tD(G(z)): 0.5918 / 0.2299 FID: 1.1751337051391602 InceptionScore: 2.7952520847320557\n",
            "Epoch 194\n"
          ]
        },
        {
          "output_type": "stream",
          "name": "stderr",
          "text": [
            "100%|██████████| 34/34 [00:09<00:00,  3.44it/s]\n"
          ]
        },
        {
          "output_type": "stream",
          "name": "stdout",
          "text": [
            "[194/200][33/34]\tLoss_D: 1.3516\tLoss_G: 1.2991\tD(x): 0.4402\tD(G(z)): 0.3649 / 0.3256 FID: 1.1664096117019653 InceptionScore: 2.7960402965545654\n",
            "Epoch 195\n"
          ]
        },
        {
          "output_type": "stream",
          "name": "stderr",
          "text": [
            "100%|██████████| 34/34 [00:09<00:00,  3.46it/s]\n"
          ]
        },
        {
          "output_type": "stream",
          "name": "stdout",
          "text": [
            "[195/200][33/34]\tLoss_D: 1.0928\tLoss_G: 1.4094\tD(x): 0.5226\tD(G(z)): 0.3284 / 0.2495 FID: 1.1586277484893799 InceptionScore: 2.7961318492889404\n",
            "Epoch 196\n"
          ]
        },
        {
          "output_type": "stream",
          "name": "stderr",
          "text": [
            "100%|██████████| 34/34 [00:10<00:00,  3.36it/s]\n"
          ]
        },
        {
          "output_type": "stream",
          "name": "stdout",
          "text": [
            "[196/200][33/34]\tLoss_D: 1.9268\tLoss_G: 1.2132\tD(x): 0.4151\tD(G(z)): 0.5522 / 0.3130 FID: 1.152472972869873 InceptionScore: 2.797173023223877\n",
            "Epoch 197\n"
          ]
        },
        {
          "output_type": "stream",
          "name": "stderr",
          "text": [
            "100%|██████████| 34/34 [00:09<00:00,  3.43it/s]\n"
          ]
        },
        {
          "output_type": "stream",
          "name": "stdout",
          "text": [
            "[197/200][33/34]\tLoss_D: 0.7147\tLoss_G: 1.5382\tD(x): 0.8135\tD(G(z)): 0.3898 / 0.2416 FID: 1.1455155611038208 InceptionScore: 2.797968626022339\n",
            "Epoch 198\n"
          ]
        },
        {
          "output_type": "stream",
          "name": "stderr",
          "text": [
            "100%|██████████| 34/34 [00:10<00:00,  3.39it/s]\n"
          ]
        },
        {
          "output_type": "stream",
          "name": "stdout",
          "text": [
            "[198/200][33/34]\tLoss_D: 1.7039\tLoss_G: 1.8313\tD(x): 0.4988\tD(G(z)): 0.5762 / 0.2047 FID: 1.1386605501174927 InceptionScore: 2.798544406890869\n",
            "Epoch 199\n"
          ]
        },
        {
          "output_type": "stream",
          "name": "stderr",
          "text": [
            "100%|██████████| 34/34 [00:09<00:00,  3.43it/s]\n"
          ]
        },
        {
          "output_type": "stream",
          "name": "stdout",
          "text": [
            "[199/200][33/34]\tLoss_D: 1.1321\tLoss_G: 1.2433\tD(x): 0.5550\tD(G(z)): 0.3241 / 0.2910 FID: 1.1312485933303833 InceptionScore: 2.7984282970428467\n",
            "Epoch 200\n"
          ]
        },
        {
          "output_type": "stream",
          "name": "stderr",
          "text": [
            "100%|██████████| 34/34 [00:10<00:00,  3.37it/s]\n"
          ]
        },
        {
          "output_type": "stream",
          "name": "stdout",
          "text": [
            "[200/200][33/34]\tLoss_D: 1.2568\tLoss_G: 3.0651\tD(x): 0.7847\tD(G(z)): 0.5819 / 0.0646 FID: 1.1241259574890137 InceptionScore: 2.7996814250946045\n"
          ]
        }
      ],
      "source": [
        "for func in [\n",
        "    lambda: os.makedirs(os.path.join('.', 'augGAN'), exist_ok=True),\n",
        "    lambda: os.makedirs(os.path.join('.', 'augGAN/model'), exist_ok=True),\n",
        "    lambda: os.makedirs(os.path.join('.', 'augGAN/plots'), exist_ok=True),\n",
        "    lambda: os.makedirs(os.path.join('.', 'augGAN/output_images'), exist_ok=True)]:  # create directories\n",
        "  try:\n",
        "    func()\n",
        "  except Exception as error:\n",
        "    print(error)\n",
        "    continue\n",
        "\n",
        "METRIC_FIELDS = [\n",
        "    'train.D_x',\n",
        "    'train.D_G_z1',\n",
        "    'train.D_G_z2',\n",
        "    'train.G_losses',\n",
        "    'train.D_losses',\n",
        "    'fid',\n",
        "    'is',\n",
        "    \n",
        "]\n",
        "metrics = {field: list() for field in METRIC_FIELDS}\n",
        "\n",
        "if nc==1:\n",
        "    mu = (0.5)\n",
        "    sigma = (0.5)\n",
        "    transform = transforms.Compose([#transforms.RandomHorizontalFlip(),\n",
        "                                    transforms.Grayscale(num_output_channels=1),\n",
        "                                    transforms.Resize((64,64)),\n",
        "                                    transforms.ToTensor(),\n",
        "                                    transforms.Normalize(mu, sigma)])\n",
        "elif nc==3:\n",
        "    mu = (0.5,0.5,0.5)\n",
        "    sigma = (0.5,0.5,0.5)\n",
        "    #Originally authors used just scaling\n",
        "    transform = transforms.Compose([#transforms.RandomHorizontalFlip(),\n",
        "                                    transforms.Resize((64,64)),\n",
        "                                    transforms.ToTensor(),\n",
        "                                    transforms.Normalize(mu, sigma)])\n",
        "else:\n",
        "    print(\"Tranformation not defined for this option\")\n",
        "\n",
        "data_dir = '/content/Xray_dataset'\n",
        "\n",
        "trainset0 = datasets.ImageFolder(os.path.join(\n",
        "          data_dir, \"train/\"), transform=transform)\n",
        "trainset500 = datasets.ImageFolder(os.path.join(\n",
        "          data_dir, \"train_classic/500/\"), transform=transform)\n",
        "trainset1000 = datasets.ImageFolder(os.path.join(\n",
        "          data_dir, \"train_classic/1000/\"), transform=transform)\n",
        "trainset2000 = datasets.ImageFolder(os.path.join(\n",
        "          data_dir, \"train_classic/2000/\"), transform=transform)\n",
        "listtrainset_no_aug = [trainset0]\n",
        "listtrainset_classic = [trainset500,trainset1000]\n",
        "listtrainset = listtrainset_no_aug + listtrainset_classic\n",
        "train_set = torch.utils.data.ConcatDataset(listtrainset)\n",
        "\n",
        "\n",
        "generator = Generator().to(device)\n",
        "discriminator = Discriminator().to(device)\n",
        "generator.apply(weights_init)\n",
        "discriminator.apply(weights_init)\n",
        "gen_optimizer = optim.Adam(generator.parameters(), lr=lr, betas=(beta1, beta2))\n",
        "dis_optimizer = optim.Adam(discriminator.parameters(), lr=lr_d, betas=(beta1, beta2))\n",
        "\n",
        "if LOAD_MODEL:\n",
        "    if torch.cuda.is_available():\n",
        "      checkpoint = torch.load(PATH)\n",
        "    else:\n",
        "      checkpoint = torch.load(PATH, map_location=lambda storage, loc: storage)\n",
        "              \n",
        "    generator.load_state_dict(checkpoint['state_dict_generator'])\n",
        "    discriminator.load_state_dict(checkpoint['state_dict_discriminator'])\n",
        "    gen_optimizer.load_state_dict(checkpoint['gen_optimizer'])\n",
        "    dis_optimizer.load_state_dict(checkpoint['dis_optimizer'])\n",
        "    metrics=checkpoint['metrics']\n",
        "    num_epochs=checkpoint['train_epoch']\n",
        "    date=checkpoint['date']\n",
        "    generator.train(mode=False)\n",
        "    discriminator.train(mode=False)\n",
        "    print('GAN loaded for epochs: ', num_epochs)\n",
        "    print(generator)\n",
        "    print(discriminator)\n",
        "    print(gen_optimizer)\n",
        "    print(dis_optimizer)\n",
        "    print(date)\n",
        "else:\n",
        "    if TRAIN_ALL:\n",
        "        train_loader = torch.utils.data.DataLoader(train_set, batch_size=batch_size,\n",
        "                                                  shuffle=True)\n",
        "        train_gan(generator, discriminator, gen_optimizer, dis_optimizer, train_loader,\n",
        "                  num_epochs, metrics)\n",
        "        test2(generator, discriminator, num_epochs, metrics, train_loader)\n",
        "    else:\n",
        " \n",
        "        train_loader = torch.utils.data.DataLoader(train_set, batch_size=batch_size,\n",
        "                                                  shuffle=True)\n",
        "        mask =[x[1]==0 for x in train_loader.dataset] #here is 0 for covid; 1 for normal; 2 for pneumonia_bacteria; 3 for pneumonia_virus for x-ray dataset\n",
        "        idx= np.arange(len(train_loader.dataset))[mask]\n",
        "\n",
        "        print(\"Total samples now are \",len(idx))\n",
        "        selected_loader = torch.utils.data.DataLoader(train_set, batch_size=batch_size,\n",
        "                                                      sampler = SubsetRandomSampler(idx))\n",
        "        train_gan(generator, discriminator, gen_optimizer, dis_optimizer, selected_loader,\n",
        "                  num_epochs, metrics)\n",
        "     "
      ]
    },
    {
      "cell_type": "markdown",
      "source": [
        "# **Visualize Generated Images**"
      ],
      "metadata": {
        "id": "iqluxxZeeFng"
      }
    },
    {
      "cell_type": "code",
      "execution_count": 21,
      "metadata": {
        "id": "Cpf-AsWkqzZf",
        "colab": {
          "base_uri": "https://localhost:8080/"
        },
        "outputId": "14736d30-66a5-4fea-93e8-107fb505ac18"
      },
      "outputs": [
        {
          "output_type": "stream",
          "name": "stdout",
          "text": [
            "Testing Block.........\n",
            "Discriminator_mean:  0.26380884647369385\n",
            "Testing Block.........\n",
            "Discriminator_mean:  0.2727195918560028\n",
            "Testing Block.........\n",
            "Discriminator_mean:  0.2865256369113922\n",
            "Testing Block.........\n",
            "Discriminator_mean:  0.2684793174266815\n"
          ]
        }
      ],
      "source": [
        "NUM_GENERATED_IMGS = 500\n",
        "\n",
        "synthesize_imgs(generator, discriminator, metrics, NUM_GENERATED_IMGS, \"normal\")\n",
        "synthesize_imgs(generator, discriminator, metrics, NUM_GENERATED_IMGS, \"covid\")\n",
        "synthesize_imgs(generator, discriminator, metrics, NUM_GENERATED_IMGS, \"pneumonia_bac\")\n",
        "synthesize_imgs(generator, discriminator, metrics, NUM_GENERATED_IMGS, \"pneumonia_vir\")"
      ]
    },
    {
      "cell_type": "code",
      "source": [
        "visualize_generated_imgs(generator, discriminator, num_epochs, metrics, selected_loader)"
      ],
      "metadata": {
        "colab": {
          "base_uri": "https://localhost:8080/",
          "height": 303
        },
        "id": "TSelvjD_Wnbe",
        "outputId": "ea92b92e-9999-49ea-8a5d-ef0d24ff9dc3"
      },
      "execution_count": 22,
      "outputs": [
        {
          "output_type": "stream",
          "name": "stdout",
          "text": [
            "Testing Block.........\n"
          ]
        },
        {
          "output_type": "display_data",
          "data": {
            "text/plain": [
              "<Figure size 1500x1500 with 2 Axes>"
            ],
            "image/png": "[encoded data removed]"
          },
          "metadata": {}
        }
      ]
    },
    {
      "cell_type": "markdown",
      "source": [
        "# **Generator and Discriminator Summary**"
      ],
      "metadata": {
        "id": "Rv_yTh1FeS4k"
      }
    },
    {
      "cell_type": "code",
      "execution_count": 23,
      "metadata": {
        "colab": {
          "base_uri": "https://localhost:8080/"
        },
        "id": "8la1EFeB3zRF",
        "outputId": "a705c8e1-a3a0-4b01-cda7-18a3b4266bf7"
      },
      "outputs": [
        {
          "output_type": "stream",
          "name": "stdout",
          "text": [
            "----------------------------------------------------------------\n",
            "        Layer (type)               Output Shape         Param #\n",
            "================================================================\n",
            "   ConvTranspose2d-1            [-1, 512, 4, 4]         819,200\n",
            "       BatchNorm2d-2            [-1, 512, 4, 4]           1,024\n",
            "              ReLU-3            [-1, 512, 4, 4]               0\n",
            "   ConvTranspose2d-4            [-1, 256, 8, 8]       2,097,152\n",
            "       BatchNorm2d-5            [-1, 256, 8, 8]             512\n",
            "              ReLU-6            [-1, 256, 8, 8]               0\n",
            "   ConvTranspose2d-7          [-1, 128, 16, 16]         524,288\n",
            "       BatchNorm2d-8          [-1, 128, 16, 16]             256\n",
            "              ReLU-9          [-1, 128, 16, 16]               0\n",
            "  ConvTranspose2d-10           [-1, 64, 32, 32]         131,072\n",
            "      BatchNorm2d-11           [-1, 64, 32, 32]             128\n",
            "             ReLU-12           [-1, 64, 32, 32]               0\n",
            "  ConvTranspose2d-13            [-1, 1, 64, 64]           1,024\n",
            "             Tanh-14            [-1, 1, 64, 64]               0\n",
            "================================================================\n",
            "Total params: 3,574,656\n",
            "Trainable params: 3,574,656\n",
            "Non-trainable params: 0\n",
            "----------------------------------------------------------------\n",
            "Input size (MB): 0.00\n",
            "Forward/backward pass size (MB): 2.88\n",
            "Params size (MB): 13.64\n",
            "Estimated Total Size (MB): 16.51\n",
            "----------------------------------------------------------------\n",
            "----------------------------------------------------------------\n",
            "        Layer (type)               Output Shape         Param #\n",
            "================================================================\n",
            "            Conv2d-1           [-1, 64, 32, 32]           1,024\n",
            "         LeakyReLU-2           [-1, 64, 32, 32]               0\n",
            "           Dropout-3           [-1, 64, 32, 32]               0\n",
            "            Conv2d-4          [-1, 128, 16, 16]         131,072\n",
            "       BatchNorm2d-5          [-1, 128, 16, 16]             256\n",
            "         LeakyReLU-6          [-1, 128, 16, 16]               0\n",
            "            Conv2d-7            [-1, 256, 8, 8]         524,288\n",
            "       BatchNorm2d-8            [-1, 256, 8, 8]             512\n",
            "         LeakyReLU-9            [-1, 256, 8, 8]               0\n",
            "          Dropout-10            [-1, 256, 8, 8]               0\n",
            "           Conv2d-11            [-1, 512, 4, 4]       2,097,152\n",
            "      BatchNorm2d-12            [-1, 512, 4, 4]           1,024\n",
            "          Dropout-13            [-1, 512, 4, 4]               0\n",
            "        LeakyReLU-14            [-1, 512, 4, 4]               0\n",
            "           Conv2d-15              [-1, 1, 1, 1]           8,192\n",
            "          Sigmoid-16              [-1, 1, 1, 1]               0\n",
            "================================================================\n",
            "Total params: 2,763,520\n",
            "Trainable params: 2,763,520\n",
            "Non-trainable params: 0\n",
            "----------------------------------------------------------------\n",
            "Input size (MB): 0.02\n",
            "Forward/backward pass size (MB): 3.00\n",
            "Params size (MB): 10.54\n",
            "Estimated Total Size (MB): 13.56\n",
            "----------------------------------------------------------------\n"
          ]
        }
      ],
      "source": [
        "from torchsummary import summary\n",
        "\n",
        "summary(generator, (100, 1, 1))\n",
        "summary(discriminator, (1, 64, 64))"
      ]
    },
    {
      "cell_type": "code",
      "execution_count": 24,
      "metadata": {
        "colab": {
          "base_uri": "https://localhost:8080/"
        },
        "id": "4N0yiqHfzOzX",
        "outputId": "da8d91fc-eb0b-4496-8f8a-094838c32fdf"
      },
      "outputs": [
        {
          "output_type": "stream",
          "name": "stdout",
          "text": [
            "Generator(\n",
            "  (main): Sequential(\n",
            "    (0): ConvTranspose2d(100, 512, kernel_size=(4, 4), stride=(1, 1), bias=False)\n",
            "    (1): BatchNorm2d(512, eps=1e-05, momentum=0.1, affine=True, track_running_stats=True)\n",
            "    (2): ReLU(inplace=True)\n",
            "    (3): ConvTranspose2d(512, 256, kernel_size=(4, 4), stride=(2, 2), padding=(1, 1), bias=False)\n",
            "    (4): BatchNorm2d(256, eps=1e-05, momentum=0.1, affine=True, track_running_stats=True)\n",
            "    (5): ReLU(inplace=True)\n",
            "    (6): ConvTranspose2d(256, 128, kernel_size=(4, 4), stride=(2, 2), padding=(1, 1), bias=False)\n",
            "    (7): BatchNorm2d(128, eps=1e-05, momentum=0.1, affine=True, track_running_stats=True)\n",
            "    (8): ReLU(inplace=True)\n",
            "    (9): ConvTranspose2d(128, 64, kernel_size=(4, 4), stride=(2, 2), padding=(1, 1), bias=False)\n",
            "    (10): BatchNorm2d(64, eps=1e-05, momentum=0.1, affine=True, track_running_stats=True)\n",
            "    (11): ReLU(inplace=True)\n",
            "    (12): ConvTranspose2d(64, 1, kernel_size=(4, 4), stride=(2, 2), padding=(1, 1), bias=False)\n",
            "    (13): Tanh()\n",
            "  )\n",
            ")\n"
          ]
        }
      ],
      "source": [
        "print(generator)"
      ]
    },
    {
      "cell_type": "code",
      "execution_count": 25,
      "metadata": {
        "colab": {
          "base_uri": "https://localhost:8080/"
        },
        "id": "o-Z61n2SAhlv",
        "outputId": "059bab76-aa22-45d7-aa2a-2a8861e4d913"
      },
      "outputs": [
        {
          "output_type": "stream",
          "name": "stdout",
          "text": [
            "Discriminator(\n",
            "  (main): Sequential(\n",
            "    (0): Conv2d(1, 64, kernel_size=(4, 4), stride=(2, 2), padding=(1, 1), bias=False)\n",
            "    (1): LeakyReLU(negative_slope=0.2, inplace=True)\n",
            "    (2): Dropout(p=0.5, inplace=False)\n",
            "    (3): Conv2d(64, 128, kernel_size=(4, 4), stride=(2, 2), padding=(1, 1), bias=False)\n",
            "    (4): BatchNorm2d(128, eps=1e-05, momentum=0.1, affine=True, track_running_stats=True)\n",
            "    (5): LeakyReLU(negative_slope=0.2, inplace=True)\n",
            "    (6): Conv2d(128, 256, kernel_size=(4, 4), stride=(2, 2), padding=(1, 1), bias=False)\n",
            "    (7): BatchNorm2d(256, eps=1e-05, momentum=0.1, affine=True, track_running_stats=True)\n",
            "    (8): LeakyReLU(negative_slope=0.2, inplace=True)\n",
            "    (9): Dropout(p=0.5, inplace=False)\n",
            "    (10): Conv2d(256, 512, kernel_size=(4, 4), stride=(2, 2), padding=(1, 1), bias=False)\n",
            "    (11): BatchNorm2d(512, eps=1e-05, momentum=0.1, affine=True, track_running_stats=True)\n",
            "    (12): Dropout(p=0.25, inplace=False)\n",
            "    (13): LeakyReLU(negative_slope=0.2, inplace=True)\n",
            "    (14): Conv2d(512, 1, kernel_size=(4, 4), stride=(1, 1), bias=False)\n",
            "    (15): Sigmoid()\n",
            "  )\n",
            ")\n"
          ]
        }
      ],
      "source": [
        "print(discriminator)"
      ]
    }
  ],
  "metadata": {
    "accelerator": "GPU",
    "colab": {
      "provenance": []
    },
    "kernelspec": {
      "display_name": "Python 3",
      "name": "python3"
    }
  },
  "nbformat": 4,
  "nbformat_minor": 0
}